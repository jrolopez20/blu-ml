{
  "cells": [
    {
      "cell_type": "markdown",
      "id": "6f1c1f47",
      "metadata": {
        "id": "6f1c1f47"
      },
      "source": [
        "# Data Understanding"
      ]
    },
    {
      "cell_type": "code",
      "execution_count": 32,
      "id": "da75c0a9",
      "metadata": {
        "id": "da75c0a9"
      },
      "outputs": [],
      "source": [
        "import pandas as pd\n",
        "import matplotlib.pyplot as plt\n",
        "import numpy as np\n",
        "import seaborn as sns\n",
        "import warnings\n",
        "warnings.filterwarnings('ignore')\n",
        "%matplotlib inline\n",
        "\n",
        "from io import StringIO\n",
        "\n",
        "# Allow pandas to display all columns from a dataframe\n",
        "pd.options.display.max_columns = None"
      ]
    },
    {
      "cell_type": "markdown",
      "id": "d06453c1",
      "metadata": {
        "id": "d06453c1"
      },
      "source": [
        "## 1- Collect initial data\n",
        "Adquirir los datos necesarios. Esta recopilación de datos inicial se refiere a la carga de datos, ya sea descargarlo directamente de una página web o la extracción desde una base de datos. Algo que tomar en cuenta es que si los datos vienen de diferentes fuentes en este paso se puede incluir la integración de los mismos. Al finalizar esta tarea es necesario realizar un reporte sobre lo ocurrido en esta etapa, ya sea las fuentes de donde se obtuvieron los datos, problemas que hubo durante la recolección o integración (si es que se hizo)."
      ]
    },
    {
      "cell_type": "code",
      "source": [
        "from google.colab import drive\n",
        "drive.mount('/content/drive')"
      ],
      "metadata": {
        "id": "r_1WDZW9tuzt",
        "outputId": "e3709c76-db17-4bda-c0c3-2fc9537eba25",
        "colab": {
          "base_uri": "https://localhost:8080/"
        }
      },
      "execution_count": 3,
      "outputs": [
        {
          "output_type": "stream",
          "name": "stdout",
          "text": [
            "Mounted at /content/drive\n"
          ]
        }
      ],
      "id": "r_1WDZW9tuzt"
    },
    {
      "cell_type": "code",
      "execution_count": 33,
      "id": "c749dc95",
      "metadata": {
        "colab": {
          "base_uri": "https://localhost:8080/",
          "height": 513
        },
        "id": "c749dc95",
        "outputId": "c32b39c6-a33a-419e-c553-4f331399f59b"
      },
      "outputs": [
        {
          "output_type": "execute_result",
          "data": {
            "text/plain": [
              "  folio_factura   folio_credito factura_importe factura_moneda  \\\n",
              "0          5212  ACF2021021-4*1   $6,905,230.58            MXN   \n",
              "1         R5588    ACF2021033*1   $5,486,110.96            MXN   \n",
              "2          5477    ACF2021021-5   $5,464,161.79            MXN   \n",
              "3          1603   ACF2022040-54   $5,286,577.84            MXN   \n",
              "4          5121  ACF2021021-1*1   $5,198,617.84            MXN   \n",
              "\n",
              "  credito_fecha_inicio credito_fecha_fin fecha_pago  dias_financiar  \\\n",
              "0           2022-07-01        2022-11-18 2022-07-18             140   \n",
              "1           2021-12-30        2022-03-04 2022-02-28              64   \n",
              "2           2022-11-25        2023-04-21 2022-12-23             147   \n",
              "3           2022-12-22        2023-01-20 2023-01-06              29   \n",
              "4           2022-03-25        2022-09-27 2022-05-06             186   \n",
              "\n",
              "   aplica_interes_en_dispersion porcentaje_adelanto linea_tipo contrato_marco  \\\n",
              "0                         False              90.00%  Blú Index     ACF2021021   \n",
              "1                          True              85.00%  Blú Index     ACF2021033   \n",
              "2                          True              90.00%  Blú Index     ACF2021021   \n",
              "3                          True              85.00%  Blú Index     ACF2022040   \n",
              "4                          True              90.00%  Blú Index     ACF2021021   \n",
              "\n",
              "     linea_limite linea_moneda_principal linea_monedas_permitidas  \\\n",
              "0  $20,000,000.00                    MXN           [\"MXN\", \"USD\"]   \n",
              "1     $375,000.00                    USD           [\"MXN\", \"USD\"]   \n",
              "2  $20,000,000.00                    MXN           [\"MXN\", \"USD\"]   \n",
              "3   $9,000,000.00                    MXN           [\"MXN\", \"USD\"]   \n",
              "4  $20,000,000.00                    MXN           [\"MXN\", \"USD\"]   \n",
              "\n",
              "    cliente_rfc                               cliente_razon_social  \\\n",
              "0  IMO621228BP3                       INDUSTRIAS MONTILLA SA DE CV   \n",
              "1  PIH1202082T2  PROVEEDORA INDUSTRIAL DE HERRAMIENTAS Y LUBRIC...   \n",
              "2  IMO621228BP3                       INDUSTRIAS MONTILLA SA DE CV   \n",
              "3  GCL1212214H3                  GRUPO CONSTRUCTOR LERAVI SA DE CV   \n",
              "4  IMO621228BP3                       INDUSTRIAS MONTILLA SA DE CV   \n",
              "\n",
              "  cliente_regimen_fiscal cliente_pais cliente_fecha_nacimiento  \\\n",
              "0                     PM          MEX               1962-12-28   \n",
              "1                     PM          MEX               2012-02-08   \n",
              "2                     PM          MEX               1962-12-28   \n",
              "3                     PM          MEX               2012-12-21   \n",
              "4                     PM          MEX               1962-12-28   \n",
              "\n",
              "                                   cliente_ocupacion cliente_sector  \\\n",
              "0                FABRICACION DE ESTRUCTURAS DE METAL        Privado   \n",
              "1  FABRICACION DE REFACCIONES Y MAQUINARIA INDUST...        Privado   \n",
              "2                FABRICACION DE ESTRUCTURAS DE METAL        Privado   \n",
              "3  CONSTRUCCION DE ESTADIOS MONUMENTOS Y OTRAS OB...        Privado   \n",
              "4                FABRICACION DE ESTRUCTURAS DE METAL        Privado   \n",
              "\n",
              "   codigo_scian                                codigo_scian_nombre riesgo_pld  \\\n",
              "0      332999.0           Fabricación de otros productos metálicos       BAJO   \n",
              "1      811312.0  Reparación y mantenimiento de maquinaria y equ...       BAJO   \n",
              "2      332999.0           Fabricación de otros productos metálicos       BAJO   \n",
              "3      237999.0           Otras construcciones de ingeniería civil       BAJO   \n",
              "4      332999.0           Fabricación de otros productos metálicos       BAJO   \n",
              "\n",
              "    pagador_rfc                          pagador_nombre pagador_pais  \\\n",
              "0  GMM3612284D0  GENERAL MOTORS DE MEXICO S DE RL DE CV          MEX   \n",
              "1  EME8409145T2                   EMERMEX, S.A. DE C.V.          NaN   \n",
              "2  CMZ840522T3A        LAS CERVEZAS MODELO EN ZACATECAS          MEX   \n",
              "3  MCA900621K92          BUENA VISTA DEL COBRE SA DE CV          MEX   \n",
              "4  GMM3612284D0  GENERAL MOTORS DE MEXICO S DE RL DE CV          MEX   \n",
              "\n",
              "   pagador_scian                     pagador_scian_nombre  \n",
              "0       336110.0  Fabricación de automóviles y camionetas  \n",
              "1            NaN                                      NaN  \n",
              "2       431213.0         Comercio al por mayor de cerveza  \n",
              "3       212231.0                         Minería de cobre  \n",
              "4       336110.0  Fabricación de automóviles y camionetas  "
            ],
            "text/html": [
              "\n",
              "  <div id=\"df-d544c6a3-07b3-475f-add8-70c24a168192\">\n",
              "    <div class=\"colab-df-container\">\n",
              "      <div>\n",
              "<style scoped>\n",
              "    .dataframe tbody tr th:only-of-type {\n",
              "        vertical-align: middle;\n",
              "    }\n",
              "\n",
              "    .dataframe tbody tr th {\n",
              "        vertical-align: top;\n",
              "    }\n",
              "\n",
              "    .dataframe thead th {\n",
              "        text-align: right;\n",
              "    }\n",
              "</style>\n",
              "<table border=\"1\" class=\"dataframe\">\n",
              "  <thead>\n",
              "    <tr style=\"text-align: right;\">\n",
              "      <th></th>\n",
              "      <th>folio_factura</th>\n",
              "      <th>folio_credito</th>\n",
              "      <th>factura_importe</th>\n",
              "      <th>factura_moneda</th>\n",
              "      <th>credito_fecha_inicio</th>\n",
              "      <th>credito_fecha_fin</th>\n",
              "      <th>fecha_pago</th>\n",
              "      <th>dias_financiar</th>\n",
              "      <th>aplica_interes_en_dispersion</th>\n",
              "      <th>porcentaje_adelanto</th>\n",
              "      <th>linea_tipo</th>\n",
              "      <th>contrato_marco</th>\n",
              "      <th>linea_limite</th>\n",
              "      <th>linea_moneda_principal</th>\n",
              "      <th>linea_monedas_permitidas</th>\n",
              "      <th>cliente_rfc</th>\n",
              "      <th>cliente_razon_social</th>\n",
              "      <th>cliente_regimen_fiscal</th>\n",
              "      <th>cliente_pais</th>\n",
              "      <th>cliente_fecha_nacimiento</th>\n",
              "      <th>cliente_ocupacion</th>\n",
              "      <th>cliente_sector</th>\n",
              "      <th>codigo_scian</th>\n",
              "      <th>codigo_scian_nombre</th>\n",
              "      <th>riesgo_pld</th>\n",
              "      <th>pagador_rfc</th>\n",
              "      <th>pagador_nombre</th>\n",
              "      <th>pagador_pais</th>\n",
              "      <th>pagador_scian</th>\n",
              "      <th>pagador_scian_nombre</th>\n",
              "    </tr>\n",
              "  </thead>\n",
              "  <tbody>\n",
              "    <tr>\n",
              "      <th>0</th>\n",
              "      <td>5212</td>\n",
              "      <td>ACF2021021-4*1</td>\n",
              "      <td>$6,905,230.58</td>\n",
              "      <td>MXN</td>\n",
              "      <td>2022-07-01</td>\n",
              "      <td>2022-11-18</td>\n",
              "      <td>2022-07-18</td>\n",
              "      <td>140</td>\n",
              "      <td>False</td>\n",
              "      <td>90.00%</td>\n",
              "      <td>Blú Index</td>\n",
              "      <td>ACF2021021</td>\n",
              "      <td>$20,000,000.00</td>\n",
              "      <td>MXN</td>\n",
              "      <td>[\"MXN\", \"USD\"]</td>\n",
              "      <td>IMO621228BP3</td>\n",
              "      <td>INDUSTRIAS MONTILLA SA DE CV</td>\n",
              "      <td>PM</td>\n",
              "      <td>MEX</td>\n",
              "      <td>1962-12-28</td>\n",
              "      <td>FABRICACION DE ESTRUCTURAS DE METAL</td>\n",
              "      <td>Privado</td>\n",
              "      <td>332999.0</td>\n",
              "      <td>Fabricación de otros productos metálicos</td>\n",
              "      <td>BAJO</td>\n",
              "      <td>GMM3612284D0</td>\n",
              "      <td>GENERAL MOTORS DE MEXICO S DE RL DE CV</td>\n",
              "      <td>MEX</td>\n",
              "      <td>336110.0</td>\n",
              "      <td>Fabricación de automóviles y camionetas</td>\n",
              "    </tr>\n",
              "    <tr>\n",
              "      <th>1</th>\n",
              "      <td>R5588</td>\n",
              "      <td>ACF2021033*1</td>\n",
              "      <td>$5,486,110.96</td>\n",
              "      <td>MXN</td>\n",
              "      <td>2021-12-30</td>\n",
              "      <td>2022-03-04</td>\n",
              "      <td>2022-02-28</td>\n",
              "      <td>64</td>\n",
              "      <td>True</td>\n",
              "      <td>85.00%</td>\n",
              "      <td>Blú Index</td>\n",
              "      <td>ACF2021033</td>\n",
              "      <td>$375,000.00</td>\n",
              "      <td>USD</td>\n",
              "      <td>[\"MXN\", \"USD\"]</td>\n",
              "      <td>PIH1202082T2</td>\n",
              "      <td>PROVEEDORA INDUSTRIAL DE HERRAMIENTAS Y LUBRIC...</td>\n",
              "      <td>PM</td>\n",
              "      <td>MEX</td>\n",
              "      <td>2012-02-08</td>\n",
              "      <td>FABRICACION DE REFACCIONES Y MAQUINARIA INDUST...</td>\n",
              "      <td>Privado</td>\n",
              "      <td>811312.0</td>\n",
              "      <td>Reparación y mantenimiento de maquinaria y equ...</td>\n",
              "      <td>BAJO</td>\n",
              "      <td>EME8409145T2</td>\n",
              "      <td>EMERMEX, S.A. DE C.V.</td>\n",
              "      <td>NaN</td>\n",
              "      <td>NaN</td>\n",
              "      <td>NaN</td>\n",
              "    </tr>\n",
              "    <tr>\n",
              "      <th>2</th>\n",
              "      <td>5477</td>\n",
              "      <td>ACF2021021-5</td>\n",
              "      <td>$5,464,161.79</td>\n",
              "      <td>MXN</td>\n",
              "      <td>2022-11-25</td>\n",
              "      <td>2023-04-21</td>\n",
              "      <td>2022-12-23</td>\n",
              "      <td>147</td>\n",
              "      <td>True</td>\n",
              "      <td>90.00%</td>\n",
              "      <td>Blú Index</td>\n",
              "      <td>ACF2021021</td>\n",
              "      <td>$20,000,000.00</td>\n",
              "      <td>MXN</td>\n",
              "      <td>[\"MXN\", \"USD\"]</td>\n",
              "      <td>IMO621228BP3</td>\n",
              "      <td>INDUSTRIAS MONTILLA SA DE CV</td>\n",
              "      <td>PM</td>\n",
              "      <td>MEX</td>\n",
              "      <td>1962-12-28</td>\n",
              "      <td>FABRICACION DE ESTRUCTURAS DE METAL</td>\n",
              "      <td>Privado</td>\n",
              "      <td>332999.0</td>\n",
              "      <td>Fabricación de otros productos metálicos</td>\n",
              "      <td>BAJO</td>\n",
              "      <td>CMZ840522T3A</td>\n",
              "      <td>LAS CERVEZAS MODELO EN ZACATECAS</td>\n",
              "      <td>MEX</td>\n",
              "      <td>431213.0</td>\n",
              "      <td>Comercio al por mayor de cerveza</td>\n",
              "    </tr>\n",
              "    <tr>\n",
              "      <th>3</th>\n",
              "      <td>1603</td>\n",
              "      <td>ACF2022040-54</td>\n",
              "      <td>$5,286,577.84</td>\n",
              "      <td>MXN</td>\n",
              "      <td>2022-12-22</td>\n",
              "      <td>2023-01-20</td>\n",
              "      <td>2023-01-06</td>\n",
              "      <td>29</td>\n",
              "      <td>True</td>\n",
              "      <td>85.00%</td>\n",
              "      <td>Blú Index</td>\n",
              "      <td>ACF2022040</td>\n",
              "      <td>$9,000,000.00</td>\n",
              "      <td>MXN</td>\n",
              "      <td>[\"MXN\", \"USD\"]</td>\n",
              "      <td>GCL1212214H3</td>\n",
              "      <td>GRUPO CONSTRUCTOR LERAVI SA DE CV</td>\n",
              "      <td>PM</td>\n",
              "      <td>MEX</td>\n",
              "      <td>2012-12-21</td>\n",
              "      <td>CONSTRUCCION DE ESTADIOS MONUMENTOS Y OTRAS OB...</td>\n",
              "      <td>Privado</td>\n",
              "      <td>237999.0</td>\n",
              "      <td>Otras construcciones de ingeniería civil</td>\n",
              "      <td>BAJO</td>\n",
              "      <td>MCA900621K92</td>\n",
              "      <td>BUENA VISTA DEL COBRE SA DE CV</td>\n",
              "      <td>MEX</td>\n",
              "      <td>212231.0</td>\n",
              "      <td>Minería de cobre</td>\n",
              "    </tr>\n",
              "    <tr>\n",
              "      <th>4</th>\n",
              "      <td>5121</td>\n",
              "      <td>ACF2021021-1*1</td>\n",
              "      <td>$5,198,617.84</td>\n",
              "      <td>MXN</td>\n",
              "      <td>2022-03-25</td>\n",
              "      <td>2022-09-27</td>\n",
              "      <td>2022-05-06</td>\n",
              "      <td>186</td>\n",
              "      <td>True</td>\n",
              "      <td>90.00%</td>\n",
              "      <td>Blú Index</td>\n",
              "      <td>ACF2021021</td>\n",
              "      <td>$20,000,000.00</td>\n",
              "      <td>MXN</td>\n",
              "      <td>[\"MXN\", \"USD\"]</td>\n",
              "      <td>IMO621228BP3</td>\n",
              "      <td>INDUSTRIAS MONTILLA SA DE CV</td>\n",
              "      <td>PM</td>\n",
              "      <td>MEX</td>\n",
              "      <td>1962-12-28</td>\n",
              "      <td>FABRICACION DE ESTRUCTURAS DE METAL</td>\n",
              "      <td>Privado</td>\n",
              "      <td>332999.0</td>\n",
              "      <td>Fabricación de otros productos metálicos</td>\n",
              "      <td>BAJO</td>\n",
              "      <td>GMM3612284D0</td>\n",
              "      <td>GENERAL MOTORS DE MEXICO S DE RL DE CV</td>\n",
              "      <td>MEX</td>\n",
              "      <td>336110.0</td>\n",
              "      <td>Fabricación de automóviles y camionetas</td>\n",
              "    </tr>\n",
              "  </tbody>\n",
              "</table>\n",
              "</div>\n",
              "      <button class=\"colab-df-convert\" onclick=\"convertToInteractive('df-d544c6a3-07b3-475f-add8-70c24a168192')\"\n",
              "              title=\"Convert this dataframe to an interactive table.\"\n",
              "              style=\"display:none;\">\n",
              "        \n",
              "  <svg xmlns=\"http://www.w3.org/2000/svg\" height=\"24px\"viewBox=\"0 0 24 24\"\n",
              "       width=\"24px\">\n",
              "    <path d=\"M0 0h24v24H0V0z\" fill=\"none\"/>\n",
              "    <path d=\"M18.56 5.44l.94 2.06.94-2.06 2.06-.94-2.06-.94-.94-2.06-.94 2.06-2.06.94zm-11 1L8.5 8.5l.94-2.06 2.06-.94-2.06-.94L8.5 2.5l-.94 2.06-2.06.94zm10 10l.94 2.06.94-2.06 2.06-.94-2.06-.94-.94-2.06-.94 2.06-2.06.94z\"/><path d=\"M17.41 7.96l-1.37-1.37c-.4-.4-.92-.59-1.43-.59-.52 0-1.04.2-1.43.59L10.3 9.45l-7.72 7.72c-.78.78-.78 2.05 0 2.83L4 21.41c.39.39.9.59 1.41.59.51 0 1.02-.2 1.41-.59l7.78-7.78 2.81-2.81c.8-.78.8-2.07 0-2.86zM5.41 20L4 18.59l7.72-7.72 1.47 1.35L5.41 20z\"/>\n",
              "  </svg>\n",
              "      </button>\n",
              "      \n",
              "  <style>\n",
              "    .colab-df-container {\n",
              "      display:flex;\n",
              "      flex-wrap:wrap;\n",
              "      gap: 12px;\n",
              "    }\n",
              "\n",
              "    .colab-df-convert {\n",
              "      background-color: #E8F0FE;\n",
              "      border: none;\n",
              "      border-radius: 50%;\n",
              "      cursor: pointer;\n",
              "      display: none;\n",
              "      fill: #1967D2;\n",
              "      height: 32px;\n",
              "      padding: 0 0 0 0;\n",
              "      width: 32px;\n",
              "    }\n",
              "\n",
              "    .colab-df-convert:hover {\n",
              "      background-color: #E2EBFA;\n",
              "      box-shadow: 0px 1px 2px rgba(60, 64, 67, 0.3), 0px 1px 3px 1px rgba(60, 64, 67, 0.15);\n",
              "      fill: #174EA6;\n",
              "    }\n",
              "\n",
              "    [theme=dark] .colab-df-convert {\n",
              "      background-color: #3B4455;\n",
              "      fill: #D2E3FC;\n",
              "    }\n",
              "\n",
              "    [theme=dark] .colab-df-convert:hover {\n",
              "      background-color: #434B5C;\n",
              "      box-shadow: 0px 1px 3px 1px rgba(0, 0, 0, 0.15);\n",
              "      filter: drop-shadow(0px 1px 2px rgba(0, 0, 0, 0.3));\n",
              "      fill: #FFFFFF;\n",
              "    }\n",
              "  </style>\n",
              "\n",
              "      <script>\n",
              "        const buttonEl =\n",
              "          document.querySelector('#df-d544c6a3-07b3-475f-add8-70c24a168192 button.colab-df-convert');\n",
              "        buttonEl.style.display =\n",
              "          google.colab.kernel.accessAllowed ? 'block' : 'none';\n",
              "\n",
              "        async function convertToInteractive(key) {\n",
              "          const element = document.querySelector('#df-d544c6a3-07b3-475f-add8-70c24a168192');\n",
              "          const dataTable =\n",
              "            await google.colab.kernel.invokeFunction('convertToInteractive',\n",
              "                                                     [key], {});\n",
              "          if (!dataTable) return;\n",
              "\n",
              "          const docLinkHtml = 'Like what you see? Visit the ' +\n",
              "            '<a target=\"_blank\" href=https://colab.research.google.com/notebooks/data_table.ipynb>data table notebook</a>'\n",
              "            + ' to learn more about interactive tables.';\n",
              "          element.innerHTML = '';\n",
              "          dataTable['output_type'] = 'display_data';\n",
              "          await google.colab.output.renderOutput(dataTable, element);\n",
              "          const docLink = document.createElement('div');\n",
              "          docLink.innerHTML = docLinkHtml;\n",
              "          element.appendChild(docLink);\n",
              "        }\n",
              "      </script>\n",
              "    </div>\n",
              "  </div>\n",
              "  "
            ]
          },
          "metadata": {},
          "execution_count": 33
        }
      ],
      "source": [
        "# Readind data\n",
        "df = pd.read_csv(\n",
        "    '/content/drive/MyDrive/Maestria/modelo/input/raw_dataset.csv',\n",
        "    sep=',', \n",
        "    parse_dates=['credito_fecha_inicio', 'credito_fecha_fin', 'fecha_pago', 'cliente_fecha_nacimiento']\n",
        "  )\n",
        "df.head()"
      ]
    },
    {
      "cell_type": "markdown",
      "id": "86776a99",
      "metadata": {
        "id": "86776a99"
      },
      "source": [
        "## 2- Describe data\n",
        "Dos aspectos son importantes de realizar en esta tarea, las cuales son el volumen y la calidad de los datos, centrándonos en la cantidad de datos (si se llega a tener una cantidad muy grande de datos, la proposición de usar una muestra puede ser considerada) y el estado de los mismos. Así como entender las variables, que tipo de variables son (numérico, categórico o booleano) y si llega a existir una codificación, identificar la clave. omo en la anterior tarea, la creación de un informe al terminar la tarea es útil y necesaria. Escribir y explicar todo lo descubierto así como los problemas ocurridos."
      ]
    },
    {
      "cell_type": "code",
      "execution_count": 34,
      "id": "1b4a73af",
      "metadata": {
        "colab": {
          "base_uri": "https://localhost:8080/"
        },
        "id": "1b4a73af",
        "outputId": "d278b6a3-d0d2-4b8d-a202-f3bdea57b58b"
      },
      "outputs": [
        {
          "output_type": "execute_result",
          "data": {
            "text/plain": [
              "(24010, 30)"
            ]
          },
          "metadata": {},
          "execution_count": 34
        }
      ],
      "source": [
        "df.shape"
      ]
    },
    {
      "cell_type": "code",
      "execution_count": 35,
      "id": "6d67312b",
      "metadata": {
        "colab": {
          "base_uri": "https://localhost:8080/"
        },
        "id": "6d67312b",
        "outputId": "96c9c46c-71cf-4bc2-81c7-d5672254c914"
      },
      "outputs": [
        {
          "output_type": "stream",
          "name": "stdout",
          "text": [
            "<class 'pandas.core.frame.DataFrame'>\n",
            "RangeIndex: 24010 entries, 0 to 24009\n",
            "Data columns (total 30 columns):\n",
            " #   Column                        Non-Null Count  Dtype         \n",
            "---  ------                        --------------  -----         \n",
            " 0   folio_factura                 24006 non-null  object        \n",
            " 1   folio_credito                 24010 non-null  object        \n",
            " 2   factura_importe               24010 non-null  object        \n",
            " 3   factura_moneda                24010 non-null  object        \n",
            " 4   credito_fecha_inicio          24010 non-null  datetime64[ns]\n",
            " 5   credito_fecha_fin             24010 non-null  datetime64[ns]\n",
            " 6   fecha_pago                    24003 non-null  datetime64[ns]\n",
            " 7   dias_financiar                24010 non-null  int64         \n",
            " 8   aplica_interes_en_dispersion  24010 non-null  bool          \n",
            " 9   porcentaje_adelanto           24010 non-null  object        \n",
            " 10  linea_tipo                    24010 non-null  object        \n",
            " 11  contrato_marco                24010 non-null  object        \n",
            " 12  linea_limite                  24010 non-null  object        \n",
            " 13  linea_moneda_principal        24010 non-null  object        \n",
            " 14  linea_monedas_permitidas      24010 non-null  object        \n",
            " 15  cliente_rfc                   24010 non-null  object        \n",
            " 16  cliente_razon_social          24010 non-null  object        \n",
            " 17  cliente_regimen_fiscal        24010 non-null  object        \n",
            " 18  cliente_pais                  24010 non-null  object        \n",
            " 19  cliente_fecha_nacimiento      24010 non-null  datetime64[ns]\n",
            " 20  cliente_ocupacion             24007 non-null  object        \n",
            " 21  cliente_sector                24010 non-null  object        \n",
            " 22  codigo_scian                  21620 non-null  float64       \n",
            " 23  codigo_scian_nombre           21620 non-null  object        \n",
            " 24  riesgo_pld                    23911 non-null  object        \n",
            " 25  pagador_rfc                   24010 non-null  object        \n",
            " 26  pagador_nombre                24010 non-null  object        \n",
            " 27  pagador_pais                  19242 non-null  object        \n",
            " 28  pagador_scian                 19066 non-null  float64       \n",
            " 29  pagador_scian_nombre          19066 non-null  object        \n",
            "dtypes: bool(1), datetime64[ns](4), float64(2), int64(1), object(22)\n",
            "memory usage: 5.3+ MB\n"
          ]
        }
      ],
      "source": [
        "df.info()"
      ]
    },
    {
      "cell_type": "markdown",
      "id": "86e1f56d",
      "metadata": {
        "id": "86e1f56d"
      },
      "source": [
        "### 2.1 Formating columns\n",
        "Para una mejor comprensión de los datos se realiza un formateo inicial de las columnas"
      ]
    },
    {
      "cell_type": "code",
      "execution_count": 36,
      "id": "a2832714",
      "metadata": {
        "id": "a2832714"
      },
      "outputs": [],
      "source": [
        "# Float columns\n",
        "for col in ['factura_importe', 'linea_limite', 'porcentaje_adelanto']:\n",
        "    df[col] = df[col].replace('[\\$,%]', '', regex=True).astype(float)\n",
        "\n",
        "# Categorical columns\n",
        "df = df.astype({\n",
        "    'cliente_regimen_fiscal': str,\n",
        "    'cliente_ocupacion': str,    \n",
        "    'cliente_sector': str,\n",
        "    'codigo_scian': str,\n",
        "    'pagador_rfc': str,\n",
        "    'pagador_scian': str\n",
        "})"
      ]
    },
    {
      "cell_type": "markdown",
      "id": "a18ed03c",
      "metadata": {
        "id": "a18ed03c"
      },
      "source": [
        "### 2.2 Check the value range of the attributes"
      ]
    },
    {
      "cell_type": "code",
      "execution_count": 37,
      "id": "9d0124a8",
      "metadata": {
        "colab": {
          "base_uri": "https://localhost:8080/"
        },
        "id": "9d0124a8",
        "outputId": "4ea7928e-e29e-4178-c654-47e13621e9c2"
      },
      "outputs": [
        {
          "output_type": "stream",
          "name": "stdout",
          "text": [
            "Rango de valores de los atributos\n",
            "factura_moneda: ['MXN' 'USD']\n",
            "credito_fecha_inicio: 2017-11-10 00:00:00 - 2023-01-23 00:00:00\n",
            "credito_fecha_fin: 2017-12-25 00:00:00 - 2023-06-09 00:00:00\n",
            "fecha_pago: 2017-11-30 00:00:00 - 2023-01-31 00:00:00\n",
            "dias_financiar: 1 - 401\n",
            "aplica_interes_en_dispersion: [False  True]\n",
            "porcentaje_adelanto: 85.0 - 100.0\n",
            "linea_tipo: ['Blú Index' 'Factoraje Blú']\n",
            "linea_limite: 0.0 - 20000000.0\n",
            "linea_moneda_princial: ['MXN' 'USD']\n",
            "linea_monedas_permitidas: ['MXN' 'USD']\n",
            "cliente_regimen_fiscal: ['PM' 'PFAE']\n",
            "cliente_pais: ['MEX']\n",
            "cliente_fecha_nacimiento: 1940-02-06 00:00:00 - 2022-09-27 00:00:00\n",
            "cliente_sector: ['Privado' 'Micro Empresa' 'Rural']\n",
            "riesgo_pld: ['BAJO' nan 'MEDIO']\n",
            "pagador_pais: ['MEX' nan 'USA']\n"
          ]
        }
      ],
      "source": [
        "print('Rango de valores de los atributos')\n",
        "print('factura_moneda:', df.factura_moneda.unique())\n",
        "print('credito_fecha_inicio:', df.credito_fecha_inicio.min(), '-', df.credito_fecha_inicio.max())\n",
        "print('credito_fecha_fin:', df.credito_fecha_fin.min(), '-', df.credito_fecha_fin.max())\n",
        "print('fecha_pago:', df[~df.fecha_pago.isnull()].fecha_pago.min(), '-', df[~df.fecha_pago.isnull()].fecha_pago.max())\n",
        "print('dias_financiar:', df.dias_financiar.min(), '-', df.dias_financiar.max())\n",
        "print('aplica_interes_en_dispersion:', df.aplica_interes_en_dispersion.unique())\n",
        "print('porcentaje_adelanto:', df.porcentaje_adelanto.min(), '-', df.porcentaje_adelanto.max())\n",
        "print('linea_tipo:', df.linea_tipo.unique())\n",
        "print('linea_limite:', df.linea_limite.min(), '-', df.linea_limite.max())\n",
        "print('linea_moneda_princial:', df.linea_moneda_principal.unique())\n",
        "print('linea_monedas_permitidas:', df.linea_moneda_principal.unique())\n",
        "print('cliente_regimen_fiscal:', df.cliente_regimen_fiscal.unique())\n",
        "print('cliente_pais:', df.cliente_pais.unique())\n",
        "print('cliente_fecha_nacimiento:', df.cliente_fecha_nacimiento.min(), '-', df.cliente_fecha_nacimiento.max())\n",
        "print('cliente_sector:', df.cliente_sector.unique())\n",
        "print('riesgo_pld:', df.riesgo_pld.unique())\n",
        "print('pagador_pais:', df.pagador_pais.unique())"
      ]
    },
    {
      "cell_type": "markdown",
      "id": "8bf6c9cb",
      "metadata": {
        "id": "8bf6c9cb"
      },
      "source": [
        "## 3- Explore data\n",
        "Después de la descripción de los datos, sigue la exploración de ellos, entender que nos dicen, como se comportan, la relación que tienen, etc. Para esto es usualmente utilizado y recomendado la Visualización de datos, ya que esta nos ayuda a entender visualmente todo lo mencionado, también se utiliza querying y técnicas de reporte. Esta tarea es muy importante ya que puede determinar los objetivos y el camino que llevaremos debido a que podemos descubrir cosas que nos ayuden o perjudiquen más adelante. Como se ha comentado, esta tarea define mucho el futuro del proyecto por lo tal, el reporte de la exploración de datos debe ser detallado y fácil de entender, incluso si es posible incluir las visualizaciones hechas para poder escribir, posiblemente, la hipótesis del proyecto."
      ]
    },
    {
      "cell_type": "markdown",
      "id": "3e1e4ebe",
      "metadata": {
        "id": "3e1e4ebe"
      },
      "source": [
        "## 3.1 Invoice on time"
      ]
    },
    {
      "cell_type": "code",
      "execution_count": 39,
      "id": "d7e5e92e",
      "metadata": {
        "colab": {
          "base_uri": "https://localhost:8080/",
          "height": 615
        },
        "id": "d7e5e92e",
        "outputId": "1cd6f4b3-b082-45f8-e3c2-9256ff297069"
      },
      "outputs": [
        {
          "output_type": "stream",
          "name": "stdout",
          "text": [
            "On time: 68.14244064972928 %, Late: 31.828404831320285 %\n",
            "Total on time: 16361\n",
            "Total lates: 7642\n"
          ]
        },
        {
          "output_type": "display_data",
          "data": {
            "text/plain": [
              "<Figure size 640x480 with 1 Axes>"
            ],
            "image/png": "[encoded data removed]"
          },
          "metadata": {}
        }
      ],
      "source": [
        "df_ontime_invoices = df[df.fecha_pago <= df.credito_fecha_fin]\n",
        "df_late_invoices = df[df.fecha_pago > df.credito_fecha_fin]\n",
        "\n",
        "OnTime = len(df_ontime_invoices.index) / len(df.index)\n",
        "Late = len(df_late_invoices.index) / len(df.index)\n",
        "\n",
        "fig = plt.figure()\n",
        "ax = fig.add_axes([0,0,1,1])\n",
        "ax.bar(['On time', 'Late'], [OnTime, Late])\n",
        "plt.title('Classes on dataset')\n",
        "\n",
        "print(\"On time:\", OnTime*100,\"%, Late:\", Late*100, \"%\")\n",
        "print('Total on time:', len(df_ontime_invoices.index))\n",
        "print('Total lates:', len(df_late_invoices.index))\n"
      ]
    },
    {
      "cell_type": "markdown",
      "source": [
        "## 3.2 Unique customer in the data"
      ],
      "metadata": {
        "id": "unjgidngBDsV"
      },
      "id": "unjgidngBDsV"
    },
    {
      "cell_type": "code",
      "source": [
        "print('Number of unique customers:', df['pagador_rfc'].nunique())"
      ],
      "metadata": {
        "colab": {
          "base_uri": "https://localhost:8080/"
        },
        "id": "vPK3WkrzBLIM",
        "outputId": "fca0d1d9-15ce-4eac-ce57-3d7c49b6031e"
      },
      "id": "vPK3WkrzBLIM",
      "execution_count": 40,
      "outputs": [
        {
          "output_type": "stream",
          "name": "stdout",
          "text": [
            "Number of unique customers: 566\n"
          ]
        }
      ]
    },
    {
      "cell_type": "markdown",
      "source": [
        "## 3.3 Number of invoices per year per client"
      ],
      "metadata": {
        "id": "K4mTaAdyCYEp"
      },
      "id": "K4mTaAdyCYEp"
    },
    {
      "cell_type": "code",
      "source": [
        "import array\n",
        "\n",
        "a = df.groupby([df['credito_fecha_inicio'].dt.year])\n",
        "folios = a['folio_factura'].count()\n",
        "# print('Folios:', folios)\n",
        "\n",
        "pagadores = a['pagador_rfc'].nunique()\n",
        "# print('Pagadores:', pagadores)\n",
        "\n",
        "years = np.sort(df['credito_fecha_inicio'].dt.year.unique())\n",
        "\n",
        "invoices = array.array('i')\n",
        "for i in range(len(folios)):\n",
        "  invoices.append(int(folios.iloc[i]/pagadores.iloc[i]))\n",
        "\n",
        "col_year = \"Year\"\n",
        "col_Number_invoice_per_client = \"Number of invoices per client\"\n",
        "\n",
        "d={col_year: years, col_Number_invoice_per_client: invoices}\n",
        "df_resume = pd.DataFrame(data=d)\n",
        "\n",
        "ax = df_resume.plot.bar(x=col_year, y=col_Number_invoice_per_client, rot=0)"
      ],
      "metadata": {
        "colab": {
          "base_uri": "https://localhost:8080/",
          "height": 449
        },
        "id": "ZQF2ZVGcCYNo",
        "outputId": "3d61609e-3589-45f2-c10e-357ceeb8a7fc"
      },
      "id": "ZQF2ZVGcCYNo",
      "execution_count": 41,
      "outputs": [
        {
          "output_type": "display_data",
          "data": {
            "text/plain": [
              "<Figure size 640x480 with 1 Axes>"
            ],
            "image/png": "[encoded data removed]"
          },
          "metadata": {}
        }
      ]
    },
    {
      "cell_type": "markdown",
      "source": [
        "## 3.4 Correlation matrix"
      ],
      "metadata": {
        "id": "ZwOr3OJDOcHI"
      },
      "id": "ZwOr3OJDOcHI"
    },
    {
      "cell_type": "code",
      "source": [
        "corr_df = df.corr(method='pearson')\n",
        "# print(\"The correlation DataFrame is:\")\n",
        "print(corr_df, \"\\n\")\n",
        "\n",
        "plt.figure(figsize=(8, 6))\n",
        "sns.heatmap(corr_df, annot=True)\n",
        "plt.show()"
      ],
      "metadata": {
        "id": "hZf1DT6vOhAh",
        "outputId": "1131221f-de4c-410d-d5a0-05adb3e38706",
        "colab": {
          "base_uri": "https://localhost:8080/",
          "height": 1000
        }
      },
      "id": "hZf1DT6vOhAh",
      "execution_count": 45,
      "outputs": [
        {
          "output_type": "stream",
          "name": "stdout",
          "text": [
            "                              factura_importe  dias_financiar  \\\n",
            "factura_importe                      1.000000        0.024739   \n",
            "dias_financiar                       0.024739        1.000000   \n",
            "aplica_interes_en_dispersion        -0.031421       -0.044061   \n",
            "porcentaje_adelanto                 -0.013121       -0.138831   \n",
            "linea_limite                         0.183376       -0.116246   \n",
            "\n",
            "                              aplica_interes_en_dispersion  \\\n",
            "factura_importe                                  -0.031421   \n",
            "dias_financiar                                   -0.044061   \n",
            "aplica_interes_en_dispersion                      1.000000   \n",
            "porcentaje_adelanto                               0.061937   \n",
            "linea_limite                                     -0.073727   \n",
            "\n",
            "                              porcentaje_adelanto  linea_limite  \n",
            "factura_importe                         -0.013121      0.183376  \n",
            "dias_financiar                          -0.138831     -0.116246  \n",
            "aplica_interes_en_dispersion             0.061937     -0.073727  \n",
            "porcentaje_adelanto                      1.000000      0.064565  \n",
            "linea_limite                             0.064565      1.000000   \n",
            "\n"
          ]
        },
        {
          "output_type": "display_data",
          "data": {
            "text/plain": [
              "<Figure size 800x600 with 2 Axes>"
            ],
            "image/png": "[encoded data removed]"
          },
          "metadata": {}
        }
      ]
    },
    {
      "cell_type": "markdown",
      "id": "f1e58b27",
      "metadata": {
        "id": "f1e58b27"
      },
      "source": [
        "## 4- Verify data quality\n",
        "Es más común de lo que se gustaría que los datos no estén del todo perfectos, ya sea error de formato, valores faltantes, valores que se salen de lo estimado según el conjunto de datos (Valor atípico), error de medición, entre otros. Es necesario identificar todos estos puntos y analizar el porqué de su existencia así como empezar a cuestionar que se hará con ellos. El informe de la verificación de calidad de los datos nos servirá para decidir el impacto que tendrá sobre nuestro proyecto, ya sea positiva o negativamente."
      ]
    },
    {
      "cell_type": "markdown",
      "id": "f9a4dc10",
      "metadata": {
        "id": "f9a4dc10"
      },
      "source": [
        "### 4.1 Identificar valores nulos"
      ]
    },
    {
      "cell_type": "code",
      "execution_count": null,
      "id": "e8dc38b3",
      "metadata": {
        "colab": {
          "base_uri": "https://localhost:8080/"
        },
        "id": "e8dc38b3",
        "outputId": "f8a68e6c-7da6-43e9-b7c9-a767f86f55f6"
      },
      "outputs": [
        {
          "output_type": "execute_result",
          "data": {
            "text/plain": [
              "folio_factura                      4\n",
              "folio_credito                      0\n",
              "factura_importe                    0\n",
              "factura_moneda                     0\n",
              "credito_fecha_inicio               0\n",
              "credito_fecha_fin                  0\n",
              "fecha_pago                         7\n",
              "dias_financiar                     0\n",
              "aplica_interes_en_dispersion       0\n",
              "porcentaje_adelanto                0\n",
              "linea_tipo                         0\n",
              "contrato_marco                     0\n",
              "linea_limite                       0\n",
              "linea_moneda_principal             0\n",
              "linea_monedas_permitidas           0\n",
              "cliente_rfc                        0\n",
              "cliente_razon_social               0\n",
              "cliente_regimen_fiscal             0\n",
              "cliente_pais                       0\n",
              "cliente_fecha_nacimiento           0\n",
              "cliente_ocupacion                  0\n",
              "cliente_sector                     0\n",
              "codigo_scian                       0\n",
              "codigo_scian_nombre             2390\n",
              "riesgo_pld                        99\n",
              "pagador_rfc                        0\n",
              "pagador_nombre                     0\n",
              "pagador_pais                    4768\n",
              "pagador_scian                      0\n",
              "pagador_scian_nombre            4944\n",
              "dtype: int64"
            ]
          },
          "metadata": {},
          "execution_count": 13
        }
      ],
      "source": [
        "df.isnull().sum()"
      ]
    },
    {
      "cell_type": "code",
      "execution_count": null,
      "id": "97aa7ee7",
      "metadata": {
        "colab": {
          "base_uri": "https://localhost:8080/"
        },
        "id": "97aa7ee7",
        "outputId": "38a1942d-a674-4125-91bf-e1e3194a3591"
      },
      "outputs": [
        {
          "output_type": "execute_result",
          "data": {
            "text/plain": [
              "Index(['folio_factura', 'folio_credito', 'factura_importe', 'factura_moneda',\n",
              "       'credito_fecha_inicio', 'credito_fecha_fin', 'fecha_pago',\n",
              "       'dias_financiar', 'aplica_interes_en_dispersion', 'porcentaje_adelanto',\n",
              "       'linea_tipo', 'contrato_marco', 'linea_limite',\n",
              "       'linea_moneda_principal', 'linea_monedas_permitidas', 'cliente_rfc',\n",
              "       'cliente_razon_social', 'cliente_regimen_fiscal', 'cliente_pais',\n",
              "       'cliente_fecha_nacimiento', 'cliente_ocupacion', 'cliente_sector',\n",
              "       'codigo_scian', 'codigo_scian_nombre', 'riesgo_pld', 'pagador_rfc',\n",
              "       'pagador_nombre', 'pagador_pais', 'pagador_scian',\n",
              "       'pagador_scian_nombre'],\n",
              "      dtype='object')"
            ]
          },
          "metadata": {},
          "execution_count": 14
        }
      ],
      "source": [
        "df.columns"
      ]
    }
  ],
  "metadata": {
    "kernelspec": {
      "display_name": "Python 3",
      "name": "python3"
    },
    "language_info": {
      "name": "python"
    },
    "colab": {
      "provenance": []
    },
    "gpuClass": "standard"
  },
  "nbformat": 4,
  "nbformat_minor": 5
}