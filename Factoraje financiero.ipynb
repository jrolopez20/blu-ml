{
 "cells": [
  {
   "cell_type": "markdown",
   "id": "de2bf6c4",
   "metadata": {},
   "source": [
    "# Factoraje financiero\n",
    "\n",
    "-----------------------------------\n",
    "\n",
    "**Definición:**\n",
    "\n",
    "```\n",
    "El factoraje, también conocido por su nombre en inglés «factoring», es una herramienta de la que se valen las empresas para obtener financiación a través de una compañía bancaria. En esta operación, la empresa vende sus derechos de cobro –sus facturas pendientes de cobrar– a una entidad financiera para disponer del capital de forma inmediata.\n",
    "```\n",
    "\n",
    "## Participantes\n",
    "\n",
    "- Vendedor, cliente, cedente o factorado\n",
    "- Empresa de factoraje, cesionario, factor o factorante\n",
    "- Deudor o cedido\n",
    "\n",
    "## Proceso\n",
    "\n",
    "1. El **Deudor** adquiere un bien o un servicio, pactando un periodo de pago con la empresa vendedora (**Cliente**).\n",
    "2. Un Cliente que requiere de financiación se acerca a una empresa de factorage (**Factor**).\n",
    "2. El Factor pacta un precio por las  *facturas pendientes por cobrar* con el Cliente y este *cede* los derechos de estas a cambio de capital.\n",
    "3. El Deudor deberá abonar a la entidad financiera (Factor) el capital que esta adelantó a la empresa vendedora (Cliente), y que este debía pagarle por la adquisición del bien o del servicio en el periodo de tiempo pactado.\n",
    "\n",
    "### Ejemplo de factoraje financiero:\n",
    "\n",
    "Imaginemos que tenemos una empresa (*Cedente*) que vende queso artesanal, y vendemos a un cliente (*Deudor*) un pedido por valor de 5.000 dólares. Esta empresa, aún habiendo comprado el queso, pagará su factura a 90 días, habiendo acordado con nosotros este periodo de pago.\n",
    "\n",
    "Sin embargo, pese a que nos pagará a 90 días, necesitamos ese dinero para seguir desarrollando nuestra actividad. Por ello, decidimos ir a un banco / entidad financiera (*Factor*) y estudiar la contratación de una operación de factoring.\n",
    "\n",
    "Cuando llegamos al banco, este nos aprueba la aprobación, con un interés del 3% sobre el capital.\n",
    "\n",
    "Así pues, el banco nos ingresa en nuestra cuenta el capital, menos el interés previamente pactado. Nosotros obtenemos la liquidez para continuar con nuestra actividad, a la vez que el banco cierra una operación que le reporta un beneficio, asumiendo de esta manera el riesgo crediticio y la gestión de cobranza"
   ]
  },
  {
   "cell_type": "code",
   "execution_count": null,
   "id": "56d34dcd",
   "metadata": {},
   "outputs": [],
   "source": []
  }
 ],
 "metadata": {
  "kernelspec": {
   "display_name": "conda_python3",
   "language": "python",
   "name": "conda_python3"
  },
  "language_info": {
   "codemirror_mode": {
    "name": "ipython",
    "version": 3
   },
   "file_extension": ".py",
   "mimetype": "text/x-python",
   "name": "python",
   "nbconvert_exporter": "python",
   "pygments_lexer": "ipython3",
   "version": "3.8.12"
  }
 },
 "nbformat": 4,
 "nbformat_minor": 5
}
