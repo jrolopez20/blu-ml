{
 "cells": [
  {
   "cell_type": "code",
   "execution_count": 66,
   "id": "0f4da76a",
   "metadata": {},
   "outputs": [],
   "source": [
    "# Import required dependencies\n",
    "import boto3\n",
    "import sagemaker\n",
    "import numpy as np # linear algebra\n",
    "import pandas as pd # data processing, CSV file I/O (e.g. pd.read_csv)\n",
    "\n",
    "from sagemaker import get_execution_role\n",
    "from sagemaker.debugger import rule_configs, Rule, DebuggerHookConfig, CollectionConfig\n",
    "\n",
    "import os\n",
    "from io import StringIO\n",
    "\n",
    "import matplotlib.pyplot as plt\n",
    "import seaborn as sns\n",
    "import re"
   ]
  },
  {
   "cell_type": "code",
   "execution_count": null,
   "id": "011d8b39",
   "metadata": {},
   "outputs": [],
   "source": []
  },
  {
   "cell_type": "raw",
   "id": "64cfdd0b",
   "metadata": {},
   "source": [
    "# Readind data\n",
    "bucket_name = 'finance-factoring-ml-dev'\n",
    "prefix = 'binary-clasification'\n",
    "s3_model_output_location = 's3://{}/output/{}/model'.format(bucket_name, prefix)\n",
    "\n",
    "df = pd.read_csv('s3://{}/data/all.csv'.format(bucket_name))\n",
    "df.head()"
   ]
  },
  {
   "cell_type": "markdown",
   "id": "d70efd43",
   "metadata": {},
   "source": [
    "# 5. Prepare dataframes for modeling approaches"
   ]
  },
  {
   "cell_type": "markdown",
   "id": "5bdf3302",
   "metadata": {},
   "source": [
    "Build target column \"PaidLate\"\n",
    "> * 0: Invoice is paid on time\n",
    "> * 1: Invoice is paid late"
   ]
  },
  {
   "cell_type": "code",
   "execution_count": 55,
   "id": "27b37018",
   "metadata": {},
   "outputs": [],
   "source": [
    "def const_paidLate(df):\n",
    "    df['PaidLate'] = (df['FechaPago'] > df['FechaVencimiento'])*1\n",
    "    return df\n",
    "\n",
    "df = const_paidLate(df)\n",
    "\n",
    "df.drop(\"FechaPago\", axis=1, inplace=True)"
   ]
  },
  {
   "cell_type": "code",
   "execution_count": 56,
   "id": "2ed624ac",
   "metadata": {},
   "outputs": [
    {
     "data": {
      "text/html": [
       "<div>\n",
       "<style scoped>\n",
       "    .dataframe tbody tr th:only-of-type {\n",
       "        vertical-align: middle;\n",
       "    }\n",
       "\n",
       "    .dataframe tbody tr th {\n",
       "        vertical-align: top;\n",
       "    }\n",
       "\n",
       "    .dataframe thead th {\n",
       "        text-align: right;\n",
       "    }\n",
       "</style>\n",
       "<table border=\"1\" class=\"dataframe\">\n",
       "  <thead>\n",
       "    <tr style=\"text-align: right;\">\n",
       "      <th></th>\n",
       "      <th>Fecha</th>\n",
       "      <th>RFCCliente</th>\n",
       "      <th>RFCPagador</th>\n",
       "      <th>Moneda</th>\n",
       "      <th>FechaVencimiento</th>\n",
       "      <th>Monto</th>\n",
       "      <th>DepositoInicial</th>\n",
       "      <th>Intereses</th>\n",
       "      <th>PaidLate</th>\n",
       "    </tr>\n",
       "  </thead>\n",
       "  <tbody>\n",
       "    <tr>\n",
       "      <th>0</th>\n",
       "      <td>1918.0</td>\n",
       "      <td>0</td>\n",
       "      <td>0</td>\n",
       "      <td>1</td>\n",
       "      <td>1953.0</td>\n",
       "      <td>38879.48</td>\n",
       "      <td>33047.56</td>\n",
       "      <td>2351.94</td>\n",
       "      <td>0</td>\n",
       "    </tr>\n",
       "    <tr>\n",
       "      <th>1</th>\n",
       "      <td>1634.0</td>\n",
       "      <td>1</td>\n",
       "      <td>1</td>\n",
       "      <td>0</td>\n",
       "      <td>1654.0</td>\n",
       "      <td>6658.40</td>\n",
       "      <td>5659.64</td>\n",
       "      <td>109.45</td>\n",
       "      <td>0</td>\n",
       "    </tr>\n",
       "    <tr>\n",
       "      <th>2</th>\n",
       "      <td>1583.0</td>\n",
       "      <td>2</td>\n",
       "      <td>2</td>\n",
       "      <td>1</td>\n",
       "      <td>1551.0</td>\n",
       "      <td>791.12</td>\n",
       "      <td>791.12</td>\n",
       "      <td>29.26</td>\n",
       "      <td>0</td>\n",
       "    </tr>\n",
       "    <tr>\n",
       "      <th>3</th>\n",
       "      <td>2282.0</td>\n",
       "      <td>3</td>\n",
       "      <td>3</td>\n",
       "      <td>0</td>\n",
       "      <td>2225.0</td>\n",
       "      <td>33048.00</td>\n",
       "      <td>28090.80</td>\n",
       "      <td>814.88</td>\n",
       "      <td>1</td>\n",
       "    </tr>\n",
       "    <tr>\n",
       "      <th>4</th>\n",
       "      <td>2110.0</td>\n",
       "      <td>4</td>\n",
       "      <td>4</td>\n",
       "      <td>0</td>\n",
       "      <td>2170.0</td>\n",
       "      <td>424634.82</td>\n",
       "      <td>360939.60</td>\n",
       "      <td>10615.87</td>\n",
       "      <td>0</td>\n",
       "    </tr>\n",
       "  </tbody>\n",
       "</table>\n",
       "</div>"
      ],
      "text/plain": [
       "    Fecha  RFCCliente  RFCPagador  Moneda  FechaVencimiento      Monto  \\\n",
       "0  1918.0           0           0       1            1953.0   38879.48   \n",
       "1  1634.0           1           1       0            1654.0    6658.40   \n",
       "2  1583.0           2           2       1            1551.0     791.12   \n",
       "3  2282.0           3           3       0            2225.0   33048.00   \n",
       "4  2110.0           4           4       0            2170.0  424634.82   \n",
       "\n",
       "   DepositoInicial  Intereses  PaidLate  \n",
       "0         33047.56    2351.94         0  \n",
       "1          5659.64     109.45         0  \n",
       "2           791.12      29.26         0  \n",
       "3         28090.80     814.88         1  \n",
       "4        360939.60   10615.87         0  "
      ]
     },
     "execution_count": 56,
     "metadata": {},
     "output_type": "execute_result"
    }
   ],
   "source": [
    "df.head()"
   ]
  },
  {
   "cell_type": "markdown",
   "id": "9c586762",
   "metadata": {},
   "source": [
    "### Splitting the dataset\n",
    "We'll then split the dataset into training (70%), validation (20%), and  test (10%) datasets and convert the datasets to the right format the algorithm expects. We'll use training and validation dataset during training and we'll try to maximize the accuracy on the validation dataset/\n",
    "\n",
    "Once the model has been deployed we'll use the test dataset to evaluate its performance"
   ]
  },
  {
   "cell_type": "code",
   "execution_count": 57,
   "id": "330bd868",
   "metadata": {},
   "outputs": [
    {
     "data": {
      "text/plain": [
       "{'ResponseMetadata': {'RequestId': '66J93F2E54GM8JVW',\n",
       "  'HostId': 'Tv5FaJMmoVAkaGIRA4z4ngw3hgt3ajhTzz8TPGUDMgldXCObiKLIkU4P+0u2gsVUMSSx1wSOkfs=',\n",
       "  'HTTPStatusCode': 200,\n",
       "  'HTTPHeaders': {'x-amz-id-2': 'Tv5FaJMmoVAkaGIRA4z4ngw3hgt3ajhTzz8TPGUDMgldXCObiKLIkU4P+0u2gsVUMSSx1wSOkfs=',\n",
       "   'x-amz-request-id': '66J93F2E54GM8JVW',\n",
       "   'date': 'Fri, 12 Aug 2022 21:28:04 GMT',\n",
       "   'etag': '\"aecf64ffd8b8d91665fc019d4d608ee2\"',\n",
       "   'server': 'AmazonS3',\n",
       "   'content-length': '0'},\n",
       "  'RetryAttempts': 0},\n",
       " 'ETag': '\"aecf64ffd8b8d91665fc019d4d608ee2\"'}"
      ]
     },
     "execution_count": 57,
     "metadata": {},
     "output_type": "execute_result"
    }
   ],
   "source": [
    "s3_res = boto3.Session().resource('s3')\n",
    "csv_buffer_train = StringIO()\n",
    "csv_buffer_validation = StringIO()\n",
    "csv_buffer_test = StringIO()\n",
    "\n",
    "train_data, validation_data, test_data = np.split(df.sample(frac=1, random_state=123), \n",
    "                                                  [int(0.7 * len(df)), int(0.9 * len(df))])\n",
    "\n",
    "# Train Data Into Buckets\n",
    "pd.concat([train_data['PaidLate'], train_data.drop(['PaidLate'], axis=1)], axis=1).to_csv(csv_buffer_train, index=False, header=False)\n",
    "s3_res.Object(bucket_name, 'data/{}/train.csv'.format(prefix)).put(Body=csv_buffer_train.getvalue())\n",
    "\n",
    "# Validation Data Into Buckets\n",
    "pd.concat([validation_data['PaidLate'], validation_data.drop(['PaidLate'], axis=1)], axis=1).to_csv(csv_buffer_validation, index=False, header=False)\n",
    "s3_res.Object(bucket_name, 'data/{}/validation.csv'.format(prefix)).put(Body=csv_buffer_validation.getvalue())\n",
    "\n",
    "test_data.drop(['PaidLate'], axis=1).to_csv(csv_buffer_test, index=False, header=False)\n",
    "s3_res.Object(bucket_name, 'data/{}/test.csv'.format(prefix)).put(Body=csv_buffer_test.getvalue())"
   ]
  },
  {
   "cell_type": "code",
   "execution_count": 58,
   "id": "c482ca31",
   "metadata": {},
   "outputs": [],
   "source": [
    "# SageMaker needs to know where the training and validation sets are located\n",
    "s3_input_train = sagemaker.TrainingInput(s3_data='s3://{}/data/{}/train'.format(bucket_name, prefix), content_type='csv')\n",
    "s3_input_validation = sagemaker.TrainingInput(s3_data='s3://{}/data/{}/validation'.format(bucket_name, prefix), content_type='csv')\n",
    "\n",
    "s3_data = {'train': s3_input_train, 'validation': s3_input_validation}"
   ]
  },
  {
   "cell_type": "markdown",
   "id": "dbbf4daf",
   "metadata": {},
   "source": [
    "# Training the model"
   ]
  },
  {
   "cell_type": "code",
   "execution_count": 59,
   "id": "6db9e526",
   "metadata": {},
   "outputs": [
    {
     "name": "stdout",
     "output_type": "stream",
     "text": [
      "Using XGBoost Container 246618743249.dkr.ecr.us-west-2.amazonaws.com/sagemaker-xgboost:1.2-2\n"
     ]
    }
   ],
   "source": [
    "sess = sagemaker.Session()\n",
    "role = get_execution_role()\n",
    "\n",
    "# We will use spot for training\n",
    "use_spot_instances = True\n",
    "max_run = 3600 # in seconds\n",
    "max_wait = 7200 if use_spot_instances else None # in seconds\n",
    "\n",
    "# Use XGBoost 1.2 version \n",
    "container = sagemaker.image_uris.retrieve(\n",
    "    framework='xgboost',\n",
    "    region=sess.boto_region_name,\n",
    "    version=\"1.2-2\"\n",
    ")\n",
    "\n",
    "print (f'Using XGBoost Container {container}')"
   ]
  },
  {
   "cell_type": "code",
   "execution_count": 60,
   "id": "4adcb743",
   "metadata": {},
   "outputs": [],
   "source": [
    "save_interval = '1'\n",
    "\n",
    "# Build model\n",
    "xgb = sagemaker.estimator.Estimator(\n",
    "    image_uri=container,\n",
    "    role=role, \n",
    "    instance_count=1, \n",
    "    instance_type='ml.m5.xlarge',\n",
    "    output_path=s3_model_output_location,\n",
    "    sagemaker_session=sess,\n",
    "    use_spot_instances=use_spot_instances,\n",
    "    max_run=max_run,\n",
    "    max_wait=max_wait,\n",
    "    \n",
    "    debugger_hook_config=DebuggerHookConfig(           # Saving training tensors\n",
    "        s3_output_path='s3://{}/output/{}/debug'.format(bucket_name, prefix),\n",
    "        collection_configs=[\n",
    "            CollectionConfig(\n",
    "                name='metrics',\n",
    "                parameters={\n",
    "                    'save_interval': save_interval\n",
    "                }\n",
    "            ),\n",
    "            CollectionConfig(\n",
    "                name='feature_importance',\n",
    "                parameters={\n",
    "                    'save_interval': save_interval                    \n",
    "                }\n",
    "            )\n",
    "        ]\n",
    "    ),\n",
    "    \n",
    "    rules=[\n",
    "        Rule.sagemaker(\n",
    "            rule_configs.class_imbalance(),\n",
    "            rule_parameters={\n",
    "                'collection_names': 'metrics'\n",
    "            }\n",
    "        )\n",
    "    ]\n",
    ")"
   ]
  },
  {
   "cell_type": "code",
   "execution_count": 61,
   "id": "1e1ec0a7",
   "metadata": {},
   "outputs": [],
   "source": [
    "# Setting hyper parameters\n",
    "xgb.set_hyperparameters(\n",
    "    objective=\"binary:logistic\",\n",
    "    num_round=100,\n",
    "    early_stopping_rounds=10,\n",
    "    eval_metric=\"auc\"    \n",
    "    \n",
    "#     max_depth=5,\n",
    "#     objective=\"multi:softmax\",\n",
    "#     eval_metric=\"mlogloss\",\n",
    "#     num_class=3,\n",
    "#     num_round=100,\n",
    "#     early_stopping_rounds=10\n",
    ")"
   ]
  },
  {
   "cell_type": "code",
   "execution_count": 62,
   "id": "a9432aab",
   "metadata": {},
   "outputs": [
    {
     "data": {
      "text/plain": [
       "{'objective': 'binary:logistic',\n",
       " 'num_round': 100,\n",
       " 'early_stopping_rounds': 10,\n",
       " 'eval_metric': 'auc'}"
      ]
     },
     "execution_count": 62,
     "metadata": {},
     "output_type": "execute_result"
    }
   ],
   "source": [
    "xgb.hyperparameters()"
   ]
  },
  {
   "cell_type": "code",
   "execution_count": 63,
   "id": "fd58ddb6",
   "metadata": {},
   "outputs": [
    {
     "name": "stdout",
     "output_type": "stream",
     "text": [
      "2022-08-12 21:28:30 Starting - Starting the training job...\n",
      "2022-08-12 21:28:56 Starting - Preparing the instances for trainingClassImbalance: InProgress\n",
      "ProfilerReport-1660339710: InProgress\n",
      "............\n",
      "2022-08-12 21:30:57 Downloading - Downloading input data...\n",
      "2022-08-12 21:31:17 Training - Downloading the training image.....\u001b[34m[2022-08-12 21:32:13.564 ip-10-0-209-62.us-west-2.compute.internal:1 INFO utils.py:27] RULE_JOB_STOP_SIGNAL_FILENAME: None\u001b[0m\n",
      "\u001b[34m[2022-08-12:21:32:13:INFO] Imported framework sagemaker_xgboost_container.training\u001b[0m\n",
      "\u001b[34m[2022-08-12:21:32:13:INFO] Failed to parse hyperparameter eval_metric value auc to Json.\u001b[0m\n",
      "\u001b[34mReturning the value itself\u001b[0m\n",
      "\u001b[34m[2022-08-12:21:32:13:INFO] Failed to parse hyperparameter objective value binary:logistic to Json.\u001b[0m\n",
      "\u001b[34mReturning the value itself\u001b[0m\n",
      "\u001b[34m[2022-08-12:21:32:13:INFO] No GPUs detected (normal if no gpus installed)\u001b[0m\n",
      "\u001b[34m[2022-08-12:21:32:13:INFO] Running XGBoost Sagemaker in algorithm mode\u001b[0m\n",
      "\u001b[34m[2022-08-12:21:32:13:INFO] Determined delimiter of CSV input is ','\u001b[0m\n",
      "\u001b[34m[2022-08-12:21:32:13:INFO] Determined delimiter of CSV input is ','\u001b[0m\n",
      "\u001b[34m[2022-08-12:21:32:13:INFO] Determined delimiter of CSV input is ','\u001b[0m\n",
      "\u001b[34m[2022-08-12:21:32:13:INFO] Determined delimiter of CSV input is ','\u001b[0m\n",
      "\u001b[34m[2022-08-12:21:32:13:INFO] Single node training.\u001b[0m\n",
      "\u001b[34m[2022-08-12:21:32:13:INFO] Train matrix has 13095 rows and 8 columns\u001b[0m\n",
      "\u001b[34m[2022-08-12:21:32:13:INFO] Validation matrix has 3742 rows\u001b[0m\n",
      "\u001b[34m[2022-08-12 21:32:13.707 ip-10-0-209-62.us-west-2.compute.internal:1 INFO json_config.py:91] Creating hook from json_config at /opt/ml/input/config/debughookconfig.json.\u001b[0m\n",
      "\u001b[34m[2022-08-12 21:32:13.708 ip-10-0-209-62.us-west-2.compute.internal:1 INFO hook.py:201] tensorboard_dir has not been set for the hook. SMDebug will not be exporting tensorboard summaries.\u001b[0m\n",
      "\u001b[34m[2022-08-12 21:32:13.708 ip-10-0-209-62.us-west-2.compute.internal:1 INFO profiler_config_parser.py:102] User has disabled profiler.\u001b[0m\n",
      "\u001b[34m[2022-08-12 21:32:13.709 ip-10-0-209-62.us-west-2.compute.internal:1 INFO hook.py:255] Saving to /opt/ml/output/tensors\u001b[0m\n",
      "\u001b[34m[2022-08-12 21:32:13.709 ip-10-0-209-62.us-west-2.compute.internal:1 INFO state_store.py:77] The checkpoint config file /opt/ml/input/config/checkpointconfig.json does not exist.\u001b[0m\n",
      "\u001b[34m[2022-08-12:21:32:13:INFO] Debug hook created from config\u001b[0m\n",
      "\u001b[34m[0]#011train-auc:0.84923#011validation-auc:0.83304\u001b[0m\n",
      "\u001b[34m[2022-08-12 21:32:13.923 ip-10-0-209-62.us-west-2.compute.internal:1 INFO hook.py:423] Monitoring the collections: metrics, feature_importance\u001b[0m\n",
      "\u001b[34m[2022-08-12 21:32:13.925 ip-10-0-209-62.us-west-2.compute.internal:1 INFO hook.py:486] Hook is writing from the hook with pid: 1\u001b[0m\n",
      "\u001b[34m[1]#011train-auc:0.86762#011validation-auc:0.84886\u001b[0m\n",
      "\u001b[34m[2]#011train-auc:0.87570#011validation-auc:0.85694\u001b[0m\n",
      "\u001b[34m[3]#011train-auc:0.87966#011validation-auc:0.86022\u001b[0m\n",
      "\u001b[34m[4]#011train-auc:0.89080#011validation-auc:0.87002\u001b[0m\n",
      "\u001b[34m[5]#011train-auc:0.89823#011validation-auc:0.87738\u001b[0m\n",
      "\u001b[34m[6]#011train-auc:0.90030#011validation-auc:0.88087\u001b[0m\n",
      "\u001b[34m[7]#011train-auc:0.91246#011validation-auc:0.89339\u001b[0m\n",
      "\u001b[34m[8]#011train-auc:0.91683#011validation-auc:0.89703\u001b[0m\n",
      "\u001b[34m[9]#011train-auc:0.92399#011validation-auc:0.90188\u001b[0m\n",
      "\u001b[34m[10]#011train-auc:0.92719#011validation-auc:0.90415\u001b[0m\n",
      "\u001b[34m[11]#011train-auc:0.93248#011validation-auc:0.90671\u001b[0m\n",
      "\u001b[34m[12]#011train-auc:0.93367#011validation-auc:0.90779\u001b[0m\n",
      "\u001b[34m[13]#011train-auc:0.93430#011validation-auc:0.90865\u001b[0m\n",
      "\u001b[34m[14]#011train-auc:0.93694#011validation-auc:0.91110\u001b[0m\n",
      "\n",
      "2022-08-12 21:32:18 Training - Training image download completed. Training in progress.\u001b[34m[15]#011train-auc:0.93780#011validation-auc:0.91195\u001b[0m\n",
      "\u001b[34m[16]#011train-auc:0.94110#011validation-auc:0.91409\u001b[0m\n",
      "\u001b[34m[17]#011train-auc:0.94441#011validation-auc:0.91602\u001b[0m\n",
      "\u001b[34m[18]#011train-auc:0.94441#011validation-auc:0.91563\u001b[0m\n",
      "\u001b[34m[19]#011train-auc:0.94618#011validation-auc:0.91777\u001b[0m\n",
      "\u001b[34m[20]#011train-auc:0.94817#011validation-auc:0.91897\u001b[0m\n",
      "\u001b[34m[21]#011train-auc:0.94873#011validation-auc:0.91906\u001b[0m\n",
      "\u001b[34m[22]#011train-auc:0.95187#011validation-auc:0.92137\u001b[0m\n",
      "\u001b[34m[23]#011train-auc:0.95358#011validation-auc:0.92257\u001b[0m\n",
      "\u001b[34m[24]#011train-auc:0.95634#011validation-auc:0.92349\u001b[0m\n",
      "\u001b[34m[25]#011train-auc:0.95840#011validation-auc:0.92468\u001b[0m\n",
      "\u001b[34m[26]#011train-auc:0.95866#011validation-auc:0.92480\u001b[0m\n",
      "\u001b[34m[27]#011train-auc:0.95990#011validation-auc:0.92508\u001b[0m\n",
      "\u001b[34m[28]#011train-auc:0.96080#011validation-auc:0.92599\u001b[0m\n",
      "\u001b[34m[29]#011train-auc:0.96121#011validation-auc:0.92588\u001b[0m\n",
      "\u001b[34m[30]#011train-auc:0.96215#011validation-auc:0.92655\u001b[0m\n",
      "\u001b[34m[31]#011train-auc:0.96470#011validation-auc:0.92855\u001b[0m\n",
      "\u001b[34m[32]#011train-auc:0.96544#011validation-auc:0.92881\u001b[0m\n",
      "\u001b[34m[33]#011train-auc:0.96676#011validation-auc:0.92904\u001b[0m\n",
      "\u001b[34m[34]#011train-auc:0.96828#011validation-auc:0.93089\u001b[0m\n",
      "\u001b[34m[35]#011train-auc:0.96915#011validation-auc:0.93166\u001b[0m\n",
      "\u001b[34m[36]#011train-auc:0.96977#011validation-auc:0.93179\u001b[0m\n",
      "\u001b[34m[37]#011train-auc:0.96996#011validation-auc:0.93186\u001b[0m\n",
      "\u001b[34m[38]#011train-auc:0.97029#011validation-auc:0.93176\u001b[0m\n",
      "\u001b[34m[39]#011train-auc:0.97040#011validation-auc:0.93184\u001b[0m\n",
      "\u001b[34m[40]#011train-auc:0.97120#011validation-auc:0.93270\u001b[0m\n",
      "\u001b[34m[41]#011train-auc:0.97275#011validation-auc:0.93268\u001b[0m\n",
      "\u001b[34m[42]#011train-auc:0.97311#011validation-auc:0.93285\u001b[0m\n",
      "\u001b[34m[43]#011train-auc:0.97405#011validation-auc:0.93350\u001b[0m\n",
      "\u001b[34m[44]#011train-auc:0.97488#011validation-auc:0.93374\u001b[0m\n",
      "\u001b[34m[45]#011train-auc:0.97524#011validation-auc:0.93372\u001b[0m\n",
      "\u001b[34m[46]#011train-auc:0.97589#011validation-auc:0.93337\u001b[0m\n",
      "\u001b[34m[47]#011train-auc:0.97603#011validation-auc:0.93332\u001b[0m\n",
      "\u001b[34m[48]#011train-auc:0.97631#011validation-auc:0.93327\u001b[0m\n",
      "\u001b[34m[49]#011train-auc:0.97640#011validation-auc:0.93323\u001b[0m\n",
      "\u001b[34m[50]#011train-auc:0.97702#011validation-auc:0.93357\u001b[0m\n",
      "\u001b[34m[51]#011train-auc:0.97744#011validation-auc:0.93407\u001b[0m\n",
      "\u001b[34m[52]#011train-auc:0.97816#011validation-auc:0.93377\u001b[0m\n",
      "\u001b[34m[53]#011train-auc:0.97877#011validation-auc:0.93441\u001b[0m\n",
      "\u001b[34m[54]#011train-auc:0.97983#011validation-auc:0.93547\u001b[0m\n",
      "\u001b[34m[55]#011train-auc:0.98014#011validation-auc:0.93556\u001b[0m\n",
      "\u001b[34m[56]#011train-auc:0.98060#011validation-auc:0.93602\u001b[0m\n",
      "\u001b[34m[57]#011train-auc:0.98079#011validation-auc:0.93580\u001b[0m\n",
      "\u001b[34m[58]#011train-auc:0.98094#011validation-auc:0.93558\u001b[0m\n",
      "\u001b[34m[59]#011train-auc:0.98141#011validation-auc:0.93536\u001b[0m\n",
      "\u001b[34m[60]#011train-auc:0.98181#011validation-auc:0.93569\u001b[0m\n",
      "\u001b[34m[61]#011train-auc:0.98216#011validation-auc:0.93573\u001b[0m\n",
      "\u001b[34m[62]#011train-auc:0.98260#011validation-auc:0.93560\u001b[0m\n",
      "\u001b[34m[63]#011train-auc:0.98371#011validation-auc:0.93584\u001b[0m\n",
      "\u001b[34m[64]#011train-auc:0.98404#011validation-auc:0.93653\u001b[0m\n",
      "\u001b[34m[65]#011train-auc:0.98441#011validation-auc:0.93702\u001b[0m\n",
      "\u001b[34m[66]#011train-auc:0.98445#011validation-auc:0.93702\u001b[0m\n",
      "\u001b[34m[67]#011train-auc:0.98497#011validation-auc:0.93741\u001b[0m\n",
      "\u001b[34m[68]#011train-auc:0.98519#011validation-auc:0.93719\u001b[0m\n",
      "\u001b[34m[69]#011train-auc:0.98575#011validation-auc:0.93782\u001b[0m\n",
      "\u001b[34m[70]#011train-auc:0.98625#011validation-auc:0.93844\u001b[0m\n",
      "\u001b[34m[71]#011train-auc:0.98641#011validation-auc:0.93848\u001b[0m\n",
      "\u001b[34m[72]#011train-auc:0.98646#011validation-auc:0.93843\u001b[0m\n",
      "\u001b[34m[73]#011train-auc:0.98658#011validation-auc:0.93879\u001b[0m\n",
      "\u001b[34m[74]#011train-auc:0.98686#011validation-auc:0.93859\u001b[0m\n",
      "\u001b[34m[75]#011train-auc:0.98728#011validation-auc:0.93816\u001b[0m\n",
      "\u001b[34m[76]#011train-auc:0.98751#011validation-auc:0.93840\u001b[0m\n",
      "\u001b[34m[77]#011train-auc:0.98820#011validation-auc:0.93902\u001b[0m\n",
      "\u001b[34m[78]#011train-auc:0.98840#011validation-auc:0.93879\u001b[0m\n",
      "\u001b[34m[79]#011train-auc:0.98857#011validation-auc:0.93905\u001b[0m\n",
      "\u001b[34m[80]#011train-auc:0.98881#011validation-auc:0.93976\u001b[0m\n",
      "\u001b[34m[81]#011train-auc:0.98905#011validation-auc:0.94019\u001b[0m\n",
      "\u001b[34m[82]#011train-auc:0.98930#011validation-auc:0.94067\u001b[0m\n",
      "\u001b[34m[83]#011train-auc:0.98960#011validation-auc:0.94086\u001b[0m\n",
      "\u001b[34m[84]#011train-auc:0.98987#011validation-auc:0.94116\u001b[0m\n",
      "\u001b[34m[85]#011train-auc:0.99022#011validation-auc:0.94179\u001b[0m\n",
      "\u001b[34m[86]#011train-auc:0.99047#011validation-auc:0.94163\u001b[0m\n",
      "\u001b[34m[87]#011train-auc:0.99060#011validation-auc:0.94172\u001b[0m\n",
      "\u001b[34m[88]#011train-auc:0.99076#011validation-auc:0.94162\u001b[0m\n",
      "\u001b[34m[89]#011train-auc:0.99095#011validation-auc:0.94205\u001b[0m\n",
      "\u001b[34m[90]#011train-auc:0.99108#011validation-auc:0.94196\u001b[0m\n",
      "\u001b[34m[91]#011train-auc:0.99125#011validation-auc:0.94233\u001b[0m\n",
      "\u001b[34m[92]#011train-auc:0.99143#011validation-auc:0.94224\u001b[0m\n",
      "\u001b[34m[93]#011train-auc:0.99162#011validation-auc:0.94268\u001b[0m\n",
      "\n",
      "2022-08-12 21:33:00 Uploading - Uploading generated training model\u001b[34m[94]#011train-auc:0.99169#011validation-auc:0.94289\u001b[0m\n",
      "\u001b[34m[95]#011train-auc:0.99189#011validation-auc:0.94318\u001b[0m\n",
      "\u001b[34m[96]#011train-auc:0.99190#011validation-auc:0.94313\u001b[0m\n",
      "\u001b[34m[97]#011train-auc:0.99223#011validation-auc:0.94366\u001b[0m\n",
      "\u001b[34m[98]#011train-auc:0.99241#011validation-auc:0.94385\u001b[0m\n",
      "\u001b[34m[99]#011train-auc:0.99256#011validation-auc:0.94408\u001b[0m\n",
      "\n",
      "2022-08-12 21:33:18 Completed - Training job completed\n",
      "Training seconds: 148\n",
      "Billable seconds: 52\n",
      "Managed Spot Training savings: 64.9%\n"
     ]
    }
   ],
   "source": [
    "xgb.fit(s3_data)"
   ]
  },
  {
   "cell_type": "code",
   "execution_count": 64,
   "id": "accb18ee",
   "metadata": {},
   "outputs": [
    {
     "data": {
      "text/plain": [
       "[{'RuleConfigurationName': 'ClassImbalance',\n",
       "  'RuleEvaluationJobArn': 'arn:aws:sagemaker:us-west-2:244210425001:processing-job/sagemaker-xgboost-2022-08--classimbalance-ea1c5e23',\n",
       "  'RuleEvaluationStatus': 'InProgress',\n",
       "  'LastModifiedTime': datetime.datetime(2022, 8, 12, 21, 35, 39, 148000, tzinfo=tzlocal())},\n",
       " {'RuleConfigurationName': 'ProfilerReport-1660339710',\n",
       "  'RuleEvaluationJobArn': 'arn:aws:sagemaker:us-west-2:244210425001:processing-job/sagemaker-xgboost-2022-08--profilerreport-1660339710-5ff58282',\n",
       "  'RuleEvaluationStatus': 'NoIssuesFound',\n",
       "  'LastModifiedTime': datetime.datetime(2022, 8, 12, 21, 33, 55, 725000, tzinfo=tzlocal())}]"
      ]
     },
     "execution_count": 64,
     "metadata": {},
     "output_type": "execute_result"
    }
   ],
   "source": [
    "xgb.latest_training_job.rule_job_summary()"
   ]
  },
  {
   "cell_type": "code",
   "execution_count": 65,
   "id": "bddebb50",
   "metadata": {},
   "outputs": [
    {
     "name": "stdout",
     "output_type": "stream",
     "text": [
      "[2022-08-12 21:37:48.888 ip-172-16-27-56.us-west-2.compute.internal:28490 INFO s3_trial.py:42] Loading trial debug-output at path s3://finance-factoring-ml-dev/output/binary-clasification/debug/sagemaker-xgboost-2022-08-12-21-28-30-212/debug-output\n",
      "[2022-08-12 21:37:49.188 ip-172-16-27-56.us-west-2.compute.internal:28490 WARNING s3handler.py:183] Encountered the exception An error occurred while reading from response stream: ('Connection broken: IncompleteRead(0 bytes read, 3607 more expected)', IncompleteRead(0 bytes read, 3607 more expected)) while reading s3://finance-factoring-ml-dev/output/binary-clasification/debug/sagemaker-xgboost-2022-08-12-21-28-30-212/debug-output/index/000000000/000000000014_worker_0.json . Will retry now\n"
     ]
    }
   ],
   "source": [
    "import smdebug\n",
    "from smdebug.trials import create_trial\n",
    "\n",
    "s3_output_path =xgb.latest_job_debugger_artifacts_path()\n",
    "trial = create_trial(s3_output_path)"
   ]
  },
  {
   "cell_type": "code",
   "execution_count": 76,
   "id": "185dc27d",
   "metadata": {},
   "outputs": [],
   "source": [
    "# Plot our metric over time\n",
    "\n",
    "def get_data(trial, tname):\n",
    "    \"\"\"\n",
    "    For the given tensor name, walks though all the iterations\n",
    "    for wich you have data and fetches the values.\n",
    "    Returns the set of steps and the values.\n",
    "    \"\"\"\n",
    "    tensor = trial.tensor(tname)\n",
    "    steps = tensor.steps()\n",
    "    vals = [tensor.value(s) for s in steps]\n",
    "    return steps, vals\n",
    "\n",
    "def plot_collection(trial, collection_name, regex='.*', figsize=(8, 6)):\n",
    "    \"\"\"\n",
    "    Takes a `trial` and  a collection name, and\n",
    "    plots all tensors that match the given regex.\n",
    "    \"\"\"\n",
    "    fig, ax = plt.subplots(figsize=figsize)\n",
    "    sns.despine()\n",
    "    \n",
    "    tensors = trial.collection(collection_name).tensor_names\n",
    "    \n",
    "    for tensor_name in sorted(tensors):\n",
    "        if re.match(regex, tensor_name):\n",
    "            steps, data = get_data(trial, tensor_name)\n",
    "            ax.plot(steps, data, label=tensor_name)\n",
    "            \n",
    "    ax.legend(loc='center left', bbox_to_anchor=(1, 0.5))\n",
    "    ax.set_xlabel('Iteration')"
   ]
  },
  {
   "cell_type": "code",
   "execution_count": 77,
   "id": "3d481df9",
   "metadata": {
    "scrolled": true
   },
   "outputs": [
    {
     "name": "stdout",
     "output_type": "stream",
     "text": [
      "[2022-08-12 21:49:11.023 ip-172-16-27-56.us-west-2.compute.internal:28490 INFO trial.py:197] Training has ended, will refresh one final time in 1 sec.\n",
      "[2022-08-12 21:49:12.040 ip-172-16-27-56.us-west-2.compute.internal:28490 INFO trial.py:210] Loaded all steps\n"
     ]
    },
    {
     "data": {
      "image/png": "[encoded data removed]",
      "text/plain": [
       "<Figure size 576x432 with 1 Axes>"
      ]
     },
     "metadata": {
      "needs_background": "light"
     },
     "output_type": "display_data"
    }
   ],
   "source": [
    "plot_collection(trial, 'metrics')"
   ]
  },
  {
   "cell_type": "code",
   "execution_count": 81,
   "id": "db2feef9",
   "metadata": {},
   "outputs": [],
   "source": [
    "# Plot feature importance\n",
    "\n",
    "def plot_feature_importance(trial, importance_type=\"weight\"):\n",
    "    SUPPORTED_IMPORTANCE_TYPES = ['weight', 'gain', 'cover', 'total_gain', 'total_cover']\n",
    "    if importance_type not in SUPPORTED_IMPORTANCE_TYPES:\n",
    "        raise ValueError(f\"{importance_type} is not one of the supported importance types\")\n",
    "    plot_collection(\n",
    "        trial,\n",
    "        'feature_importance',\n",
    "        regex=f\"feature_importance/{importance_type}/.*\"\n",
    "    )"
   ]
  },
  {
   "cell_type": "code",
   "execution_count": 79,
   "id": "e77c0c5b",
   "metadata": {
    "scrolled": true
   },
   "outputs": [
    {
     "data": {
      "image/png": "[encoded data removed]",
      "text/plain": [
       "<Figure size 576x432 with 1 Axes>"
      ]
     },
     "metadata": {
      "needs_background": "light"
     },
     "output_type": "display_data"
    }
   ],
   "source": [
    "plot_feature_importance(trial)"
   ]
  },
  {
   "cell_type": "markdown",
   "id": "9ba10c7c",
   "metadata": {},
   "source": [
    "# Deploying the model"
   ]
  },
  {
   "cell_type": "code",
   "execution_count": 91,
   "id": "996a869d",
   "metadata": {},
   "outputs": [
    {
     "name": "stdout",
     "output_type": "stream",
     "text": [
      "---------------!"
     ]
    }
   ],
   "source": [
    "# lets deploy our model to an HTTPS endpoint, and enable data capture.\n",
    "from sagemaker.model_monitor.data_capture_config import DataCaptureConfig\n",
    "\n",
    "from time import strftime, gmtime\n",
    "timestamp = strftime('%d-%H-%M-%S', gmtime())\n",
    "\n",
    "capture_path = 's3://{}/output/{}/capture/'.format(bucket_name, prefix)\n",
    "\n",
    "xgb_endpoint = xgb.deploy(\n",
    "    endpoint_name = 'Finance-factoring-{}-xgboost-{}'.format(prefix, timestamp),\n",
    "    initial_instance_count=1,                                                        # Infraestructure requirements\n",
    "    instance_type='ml.m5.xlarge',\n",
    "    \n",
    "    data_capture_config = DataCaptureConfig(\n",
    "        enable_capture = True,                                                       # Capture data\n",
    "        sampling_percentage = 100,\n",
    "        # capture_options = [\"REQUEST\", \"RESPONSE\"]                                  # Default value\n",
    "        destination_s3_uri = capture_path                                            # Save data here\n",
    "    )\n",
    ")\n"
   ]
  },
  {
   "cell_type": "markdown",
   "id": "00ae657e",
   "metadata": {},
   "source": [
    "# Predicting with the model"
   ]
  },
  {
   "cell_type": "code",
   "execution_count": 241,
   "id": "7819bbdc",
   "metadata": {},
   "outputs": [
    {
     "name": "stdout",
     "output_type": "stream",
     "text": [
      "[[401.0, 44.0, 2.0, 0.0, 511.0, 9726.6, 9726.6, 417.31], [1523.0, 73.0, 31.0, 1.0, 1579.0, 1738.38, 1477.62, 80.01], [1223.0, 97.0, 31.0, 0.0, 1357.0, 10962.0, 9317.7, 351.38], [1500.0, 16.0, 270.0, 0.0, 1736.0, 9187.2, 7809.12, 226.53], [1330.0, 3.0, 12.0, 0.0, 1425.0, 51272.0, 43581.2, 4003.43], [1411.0, 0.0, 37.0, 1.0, 1484.0, 1450.0, 1232.5, 52.44], [2218.0, 107.0, 424.0, 1.0, 2247.0, 9893.87, 8409.79, 175.34], [1211.0, 21.0, 39.0, 0.0, 1266.0, 128760.0, 109446.0, 5820.66], [2160.0, 1.0, 1.0, 0.0, 2191.0, 1212.2, 1030.37, 30.89], [1832.0, 84.0, 31.0, 1.0, 2142.0, 9600.0, 8160.0, 862.68]]\n",
      "b'0.03827109560370445\\n'\n",
      "b'0.6934359073638916\\n'\n",
      "b'0.8603894710540771\\n'\n",
      "b'0.08651121705770493\\n'\n",
      "b'0.6148239970207214\\n'\n",
      "b'0.05498092621564865\\n'\n",
      "b'0.007007214706391096\\n'\n",
      "b'0.27992376685142517\\n'\n",
      "b'0.8779798746109009\\n'\n",
      "b'0.12272383272647858\\n'\n"
     ]
    }
   ],
   "source": [
    "sm = boto3.Session().client(service_name='runtime.sagemaker')\n",
    "\n",
    "# Lests predict the 10 first samples from the test set\n",
    "test_samples = pd.read_csv('s3://{}/data/{}/test.csv'.format(bucket_name, prefix), nrows=10, index_col=None)\n",
    "test_samples = test_samples.values.tolist()\n",
    "\n",
    "print(test_samples)\n",
    "\n",
    "single_example = None\n",
    "\n",
    "for sample in test_samples:\n",
    "    sample = str(sample)\n",
    "    \n",
    "    sample = sample.replace('[', '')\n",
    "    sample = sample.replace(']', '')\n",
    "    \n",
    "    sample = bytes(sample, 'utf-8')\n",
    "    single_example = sample\n",
    "    \n",
    "    response = sm.invoke_endpoint(\n",
    "        EndpointName=xgb_endpoint.endpoint_name,\n",
    "        ContentType='text/csv',\n",
    "        Body=sample\n",
    "    )\n",
    "\n",
    "    print(response['Body'].read())\n",
    "\n",
    "\n"
   ]
  },
  {
   "cell_type": "code",
   "execution_count": 230,
   "id": "d3548a98",
   "metadata": {},
   "outputs": [
    {
     "name": "stdout",
     "output_type": "stream",
     "text": [
      "b'0.12272383272647858\\n'\n"
     ]
    }
   ],
   "source": [
    "# Invoke endpoint\n",
    "\n",
    "client = boto3.client('sagemaker-runtime')\n",
    "\n",
    "custom_attributes = \"c000b4f9-df62-4c85-a0bf-7c525f9104a4\"       # An example of a trace ID.\n",
    "endpoint_name = xgb_endpoint.endpoint_name                       # Your endpoint name.\n",
    "content_type = 'text/csv'                                        # The MIME type of the input data in the request body.\n",
    "accept = 'text/csv'                                              # The desired MIME type of the inference in the response.\n",
    "payload = single_example                                         # Payload for inference.\n",
    "\n",
    "response = client.invoke_endpoint(\n",
    "    EndpointName=endpoint_name, \n",
    "    CustomAttributes=custom_attributes, \n",
    "    ContentType=content_type,\n",
    "    Accept=accept,\n",
    "    Body=payload\n",
    "    )\n",
    "\n",
    "print(response['Body'].read())"
   ]
  },
  {
   "cell_type": "markdown",
   "id": "e1441d7e",
   "metadata": {},
   "source": [
    "For each sample, the binary classifier returns a probability between 0 and 1. Since we decided to maximize the accuracy, the model sets a threshold of o.5: anything lower is treated as a 0, anything higher as a 1."
   ]
  },
  {
   "cell_type": "markdown",
   "id": "093379a9",
   "metadata": {},
   "source": [
    "# Clean up\n",
    "## Deleting the endpoint\n",
    "Once that we're donde predicting, we can delete the endpoint (and stop paying for it). We can re-deploy again by running the appropiate cell aboce."
   ]
  },
  {
   "cell_type": "code",
   "execution_count": null,
   "id": "939314ad",
   "metadata": {},
   "outputs": [],
   "source": [
    "sagemaker.Session().delete_endpoint(endpoint_name=xgb_endpoint.endpoint_name)"
   ]
  },
  {
   "cell_type": "markdown",
   "id": "d055f9ee",
   "metadata": {},
   "source": [
    "## Delete S3 ouput folder"
   ]
  },
  {
   "cell_type": "code",
   "execution_count": 222,
   "id": "40231c2e",
   "metadata": {},
   "outputs": [
    {
     "data": {
      "text/plain": [
       "[{'ResponseMetadata': {'RequestId': '9WCX8M14XXQNXVV5',\n",
       "   'HostId': 'KomIb0V0QHFxnfrIlWVLmBgRZHAqW1F8XpyHfSDnbynGhUra8u/mdow2mQlcj6APEomY1a8hc8w=',\n",
       "   'HTTPStatusCode': 200,\n",
       "   'HTTPHeaders': {'x-amz-id-2': 'KomIb0V0QHFxnfrIlWVLmBgRZHAqW1F8XpyHfSDnbynGhUra8u/mdow2mQlcj6APEomY1a8hc8w=',\n",
       "    'x-amz-request-id': '9WCX8M14XXQNXVV5',\n",
       "    'date': 'Mon, 15 Aug 2022 14:32:20 GMT',\n",
       "    'content-type': 'application/xml',\n",
       "    'transfer-encoding': 'chunked',\n",
       "    'server': 'AmazonS3',\n",
       "    'connection': 'close'},\n",
       "   'RetryAttempts': 0},\n",
       "  'Deleted': [{'Key': 'output/binary-clasification/debug/sagemaker-xgboost-2022-08-12-21-28-30-212/debug-output/events/000000000022/000000000022_worker_0.tfevents'},\n",
       "   {'Key': 'output/binary-clasification/debug/sagemaker-xgboost-2022-08-12-21-28-30-212/debug-output/events/000000000097/000000000097_worker_0.tfevents'},\n",
       "   {'Key': 'output/binary-clasification/debug/sagemaker-xgboost-2022-08-12-21-28-30-212/debug-output/index/000000000/000000000029_worker_0.json'},\n",
       "   {'Key': 'output/binary-clasification/debug/sagemaker-xgboost-2022-08-12-21-28-30-212/debug-output/index/000000000/000000000009_worker_0.json'},\n",
       "   {'Key': 'output/binary-clasification/debug/sagemaker-xgboost-2022-08-12-21-28-30-212/debug-output/events/000000000089/000000000089_worker_0.tfevents'},\n",
       "   {'Key': 'output/binary-clasification/debug/sagemaker-xgboost-2022-08-12-21-28-30-212/debug-output/events/000000000031/000000000031_worker_0.tfevents'},\n",
       "   {'Key': 'output/binary-clasification/debug/sagemaker-xgboost-2022-08-12-21-28-30-212/debug-output/index/000000000/000000000096_worker_0.json'},\n",
       "   {'Key': 'output/binary-clasification/debug/sagemaker-xgboost-2022-08-12-21-28-30-212/debug-output/events/000000000078/000000000078_worker_0.tfevents'},\n",
       "   {'Key': 'output/binary-clasification/debug/sagemaker-xgboost-2022-08-12-21-28-30-212/debug-output/index/000000000/000000000070_worker_0.json'},\n",
       "   {'Key': 'output/binary-clasification/debug/sagemaker-xgboost-2022-08-12-21-28-30-212/debug-output/index/000000000/000000000045_worker_0.json'},\n",
       "   {'Key': 'output/binary-clasification/debug/sagemaker-xgboost-2022-08-12-21-28-30-212/debug-output/events/000000000028/000000000028_worker_0.tfevents'},\n",
       "   {'Key': 'output/binary-clasification/debug/sagemaker-xgboost-2022-08-12-21-28-30-212/debug-output/events/000000000094/000000000094_worker_0.tfevents'},\n",
       "   {'Key': 'output/binary-clasification/debug/sagemaker-xgboost-2022-08-12-21-28-30-212/debug-output/index/000000000/000000000055_worker_0.json'},\n",
       "   {'Key': 'output/binary-clasification/debug/sagemaker-xgboost-2022-08-12-21-28-30-212/debug-output/index/000000000/000000000025_worker_0.json'},\n",
       "   {'Key': 'output/binary-clasification/debug/sagemaker-xgboost-2022-08-12-21-28-30-212/debug-output/index/000000000/000000000007_worker_0.json'},\n",
       "   {'Key': 'output/binary-clasification/debug/sagemaker-xgboost-2022-08-12-21-28-30-212/debug-output/events/000000000066/000000000066_worker_0.tfevents'},\n",
       "   {'Key': 'output/binary-clasification/debug/sagemaker-xgboost-2022-08-12-21-28-30-212/debug-output/index/000000000/000000000071_worker_0.json'},\n",
       "   {'Key': 'output/binary-clasification/debug/sagemaker-xgboost-2022-08-12-21-28-30-212/debug-output/events/000000000013/000000000013_worker_0.tfevents'},\n",
       "   {'Key': 'output/binary-clasification/debug/sagemaker-xgboost-2022-08-12-21-28-30-212/debug-output/index/000000000/000000000036_worker_0.json'},\n",
       "   {'Key': 'output/binary-clasification/debug/sagemaker-xgboost-2022-08-12-21-28-30-212/debug-output/events/000000000079/000000000079_worker_0.tfevents'},\n",
       "   {'Key': 'output/binary-clasification/debug/sagemaker-xgboost-2022-08-12-21-28-30-212/debug-output/index/000000000/000000000063_worker_0.json'},\n",
       "   {'Key': 'output/binary-clasification/debug/sagemaker-xgboost-2022-08-12-21-28-30-212/debug-output/events/000000000042/000000000042_worker_0.tfevents'},\n",
       "   {'Key': 'output/binary-clasification/debug/sagemaker-xgboost-2022-08-12-21-28-30-212/debug-output/index/000000000/000000000072_worker_0.json'},\n",
       "   {'Key': 'output/binary-clasification/debug/sagemaker-xgboost-2022-08-12-21-28-30-212/debug-output/index/000000000/000000000006_worker_0.json'},\n",
       "   {'Key': 'output/binary-clasification/debug/sagemaker-xgboost-2022-08-12-21-28-30-212/debug-output/training_job_end.ts'},\n",
       "   {'Key': 'output/binary-clasification/debug/sagemaker-xgboost-2022-08-12-21-28-30-212/debug-output/events/000000000014/000000000014_worker_0.tfevents'},\n",
       "   {'Key': 'output/binary-clasification/debug/sagemaker-xgboost-2022-08-12-21-28-30-212/debug-output/index/000000000/000000000065_worker_0.json'},\n",
       "   {'Key': 'output/binary-clasification/debug/sagemaker-xgboost-2022-08-12-21-28-30-212/debug-output/events/000000000070/000000000070_worker_0.tfevents'},\n",
       "   {'Key': 'output/binary-clasification/debug/sagemaker-xgboost-2022-08-12-21-28-30-212/debug-output/events/000000000096/000000000096_worker_0.tfevents'},\n",
       "   {'Key': 'output/binary-clasification/debug/sagemaker-xgboost-2022-08-12-21-28-30-212/debug-output/events/000000000056/000000000056_worker_0.tfevents'},\n",
       "   {'Key': 'output/binary-clasification/debug/sagemaker-xgboost-2022-08-12-21-28-30-212/debug-output/index/000000000/000000000031_worker_0.json'},\n",
       "   {'Key': 'output/binary-clasification/debug/sagemaker-xgboost-2022-08-12-21-28-30-212/debug-output/index/000000000/000000000033_worker_0.json'},\n",
       "   {'Key': 'output/binary-clasification/debug/sagemaker-xgboost-2022-08-12-21-28-30-212/debug-output/events/000000000050/000000000050_worker_0.tfevents'},\n",
       "   {'Key': 'output/binary-clasification/debug/sagemaker-xgboost-2022-08-12-21-28-30-212/debug-output/index/000000000/000000000005_worker_0.json'},\n",
       "   {'Key': 'output/binary-clasification/debug/sagemaker-xgboost-2022-08-12-21-28-30-212/debug-output/index/000000000/000000000078_worker_0.json'},\n",
       "   {'Key': 'output/binary-clasification/debug/sagemaker-xgboost-2022-08-12-21-28-30-212/debug-output/index/000000000/000000000044_worker_0.json'},\n",
       "   {'Key': 'output/binary-clasification/debug/sagemaker-xgboost-2022-08-12-21-28-30-212/debug-output/index/000000000/000000000085_worker_0.json'},\n",
       "   {'Key': 'output/binary-clasification/debug/sagemaker-xgboost-2022-08-12-21-28-30-212/debug-output/events/000000000091/000000000091_worker_0.tfevents'},\n",
       "   {'Key': 'output/binary-clasification/debug/sagemaker-xgboost-2022-08-12-21-28-30-212/debug-output/events/000000000048/000000000048_worker_0.tfevents'},\n",
       "   {'Key': 'output/binary-clasification/debug/sagemaker-xgboost-2022-08-12-21-28-30-212/debug-output/index/000000000/000000000052_worker_0.json'},\n",
       "   {'Key': 'output/binary-clasification/debug/sagemaker-xgboost-2022-08-12-21-28-30-212/debug-output/events/000000000063/000000000063_worker_0.tfevents'},\n",
       "   {'Key': 'output/binary-clasification/debug/sagemaker-xgboost-2022-08-12-21-28-30-212/debug-output/index/000000000/000000000089_worker_0.json'},\n",
       "   {'Key': 'output/binary-clasification/debug/sagemaker-xgboost-2022-08-12-21-28-30-212/debug-output/events/000000000064/000000000064_worker_0.tfevents'},\n",
       "   {'Key': 'output/binary-clasification/debug/sagemaker-xgboost-2022-08-12-21-28-30-212/debug-output/events/000000000004/000000000004_worker_0.tfevents'},\n",
       "   {'Key': 'output/binary-clasification/debug/sagemaker-xgboost-2022-08-12-21-28-30-212/debug-output/events/000000000067/000000000067_worker_0.tfevents'},\n",
       "   {'Key': 'output/binary-clasification/debug/sagemaker-xgboost-2022-08-12-21-28-30-212/debug-output/index/000000000/000000000035_worker_0.json'},\n",
       "   {'Key': 'output/binary-clasification/debug/sagemaker-xgboost-2022-08-12-21-28-30-212/debug-output/events/000000000036/000000000036_worker_0.tfevents'},\n",
       "   {'Key': 'output/binary-clasification/debug/sagemaker-xgboost-2022-08-12-21-28-30-212/debug-output/index/000000000/000000000097_worker_0.json'},\n",
       "   {'Key': 'output/binary-clasification/debug/sagemaker-xgboost-2022-08-12-21-28-30-212/debug-output/index/000000000/000000000016_worker_0.json'},\n",
       "   {'Key': 'output/binary-clasification/debug/sagemaker-xgboost-2022-08-12-21-28-30-212/debug-output/events/000000000059/000000000059_worker_0.tfevents'},\n",
       "   {'Key': 'output/binary-clasification/debug/sagemaker-xgboost-2022-08-12-21-28-30-212/debug-output/index/000000000/000000000075_worker_0.json'},\n",
       "   {'Key': 'output/binary-clasification/debug/sagemaker-xgboost-2022-08-12-21-28-30-212/debug-output/events/000000000007/000000000007_worker_0.tfevents'},\n",
       "   {'Key': 'output/binary-clasification/debug/sagemaker-xgboost-2022-08-12-21-28-30-212/debug-output/events/000000000057/000000000057_worker_0.tfevents'},\n",
       "   {'Key': 'output/binary-clasification/debug/sagemaker-xgboost-2022-08-12-21-28-30-212/debug-output/index/000000000/000000000087_worker_0.json'},\n",
       "   {'Key': 'output/binary-clasification/debug/sagemaker-xgboost-2022-08-12-21-28-30-212/debug-output/events/000000000076/000000000076_worker_0.tfevents'},\n",
       "   {'Key': 'output/binary-clasification/debug/sagemaker-xgboost-2022-08-12-21-28-30-212/debug-output/events/000000000015/000000000015_worker_0.tfevents'},\n",
       "   {'Key': 'output/binary-clasification/debug/sagemaker-xgboost-2022-08-12-21-28-30-212/debug-output/index/000000000/000000000002_worker_0.json'},\n",
       "   {'Key': 'output/binary-clasification/debug/sagemaker-xgboost-2022-08-12-21-28-30-212/debug-output/index/000000000/000000000086_worker_0.json'},\n",
       "   {'Key': 'output/binary-clasification/debug/sagemaker-xgboost-2022-08-12-21-28-30-212/debug-output/index/000000000/000000000030_worker_0.json'},\n",
       "   {'Key': 'output/binary-clasification/debug/sagemaker-xgboost-2022-08-12-21-28-30-212/debug-output/events/000000000027/000000000027_worker_0.tfevents'},\n",
       "   {'Key': 'output/binary-clasification/debug/sagemaker-xgboost-2022-08-12-21-28-30-212/debug-output/index/000000000/000000000012_worker_0.json'},\n",
       "   {'Key': 'output/binary-clasification/debug/sagemaker-xgboost-2022-08-12-21-28-30-212/debug-output/index/000000000/000000000047_worker_0.json'},\n",
       "   {'Key': 'output/binary-clasification/debug/sagemaker-xgboost-2022-08-12-21-28-30-212/debug-output/events/000000000011/000000000011_worker_0.tfevents'},\n",
       "   {'Key': 'output/binary-clasification/debug/sagemaker-xgboost-2022-08-12-21-28-30-212/debug-output/events/000000000071/000000000071_worker_0.tfevents'},\n",
       "   {'Key': 'output/binary-clasification/debug/sagemaker-xgboost-2022-08-12-21-28-30-212/debug-output/events/000000000037/000000000037_worker_0.tfevents'},\n",
       "   {'Key': 'output/binary-clasification/debug/sagemaker-xgboost-2022-08-12-21-28-30-212/debug-output/events/000000000069/000000000069_worker_0.tfevents'},\n",
       "   {'Key': 'output/binary-clasification/debug/sagemaker-xgboost-2022-08-12-21-28-30-212/debug-output/index/000000000/000000000049_worker_0.json'},\n",
       "   {'Key': 'output/binary-clasification/debug/sagemaker-xgboost-2022-08-12-21-28-30-212/debug-output/index/000000000/000000000051_worker_0.json'},\n",
       "   {'Key': 'output/binary-clasification/debug/sagemaker-xgboost-2022-08-12-21-28-30-212/debug-output/index/000000000/000000000073_worker_0.json'},\n",
       "   {'Key': 'output/binary-clasification/debug/sagemaker-xgboost-2022-08-12-21-28-30-212/debug-output/events/000000000032/000000000032_worker_0.tfevents'},\n",
       "   {'Key': 'output/binary-clasification/debug/sagemaker-xgboost-2022-08-12-21-28-30-212/debug-output/events/000000000008/000000000008_worker_0.tfevents'},\n",
       "   {'Key': 'output/binary-clasification/debug/sagemaker-xgboost-2022-08-12-21-28-30-212/debug-output/index/000000000/000000000039_worker_0.json'},\n",
       "   {'Key': 'output/binary-clasification/debug/sagemaker-xgboost-2022-08-12-21-28-30-212/debug-output/index/000000000/000000000094_worker_0.json'},\n",
       "   {'Key': 'output/binary-clasification/debug/sagemaker-xgboost-2022-08-12-21-28-30-212/debug-output/index/000000000/000000000092_worker_0.json'},\n",
       "   {'Key': 'output/binary-clasification/debug/sagemaker-xgboost-2022-08-12-21-28-30-212/debug-output/index/000000000/000000000067_worker_0.json'},\n",
       "   {'Key': 'output/binary-clasification/debug/sagemaker-xgboost-2022-08-12-21-28-30-212/debug-output/events/000000000026/000000000026_worker_0.tfevents'},\n",
       "   {'Key': 'output/binary-clasification/debug/sagemaker-xgboost-2022-08-12-21-28-30-212/debug-output/events/000000000023/000000000023_worker_0.tfevents'},\n",
       "   {'Key': 'output/binary-clasification/debug/sagemaker-xgboost-2022-08-12-21-28-30-212/debug-output/index/000000000/000000000017_worker_0.json'},\n",
       "   {'Key': 'output/binary-clasification/debug/sagemaker-xgboost-2022-08-12-21-28-30-212/debug-output/events/000000000093/000000000093_worker_0.tfevents'},\n",
       "   {'Key': 'output/binary-clasification/debug/sagemaker-xgboost-2022-08-12-21-28-30-212/debug-output/index/000000000/000000000053_worker_0.json'},\n",
       "   {'Key': 'output/binary-clasification/debug/sagemaker-xgboost-2022-08-12-21-28-30-212/debug-output/events/000000000049/000000000049_worker_0.tfevents'},\n",
       "   {'Key': 'output/binary-clasification/debug/sagemaker-xgboost-2022-08-12-21-28-30-212/debug-output/index/000000000/000000000038_worker_0.json'},\n",
       "   {'Key': 'output/binary-clasification/debug/sagemaker-xgboost-2022-08-12-21-28-30-212/debug-output/index/000000000/000000000091_worker_0.json'},\n",
       "   {'Key': 'output/binary-clasification/debug/sagemaker-xgboost-2022-08-12-21-28-30-212/debug-output/events/000000000058/000000000058_worker_0.tfevents'},\n",
       "   {'Key': 'output/binary-clasification/debug/sagemaker-xgboost-2022-08-12-21-28-30-212/debug-output/events/000000000012/000000000012_worker_0.tfevents'},\n",
       "   {'Key': 'output/binary-clasification/debug/sagemaker-xgboost-2022-08-12-21-28-30-212/debug-output/events/000000000033/000000000033_worker_0.tfevents'},\n",
       "   {'Key': 'output/binary-clasification/debug/sagemaker-xgboost-2022-08-12-21-28-30-212/debug-output/index/000000000/000000000059_worker_0.json'},\n",
       "   {'Key': 'output/binary-clasification/debug/sagemaker-xgboost-2022-08-12-21-28-30-212/debug-output/index/000000000/000000000043_worker_0.json'},\n",
       "   {'Key': 'output/binary-clasification/debug/sagemaker-xgboost-2022-08-12-21-28-30-212/debug-output/events/000000000046/000000000046_worker_0.tfevents'},\n",
       "   {'Key': 'output/binary-clasification/debug/sagemaker-xgboost-2022-08-12-21-28-30-212/debug-output/index/000000000/000000000084_worker_0.json'},\n",
       "   {'Key': 'output/binary-clasification/debug/sagemaker-xgboost-2022-08-12-21-28-30-212/debug-output/index/000000000/000000000027_worker_0.json'},\n",
       "   {'Key': 'output/binary-clasification/debug/sagemaker-xgboost-2022-08-12-21-28-30-212/debug-output/index/000000000/000000000037_worker_0.json'},\n",
       "   {'Key': 'output/binary-clasification/debug/sagemaker-xgboost-2022-08-12-21-28-30-212/debug-output/index/000000000/000000000060_worker_0.json'},\n",
       "   {'Key': 'output/binary-clasification/debug/sagemaker-xgboost-2022-08-12-21-28-30-212/debug-output/events/000000000010/000000000010_worker_0.tfevents'},\n",
       "   {'Key': 'output/binary-clasification/debug/sagemaker-xgboost-2022-08-12-21-28-30-212/debug-output/collections/000000000/worker_0_collections.json'},\n",
       "   {'Key': 'output/binary-clasification/debug/sagemaker-xgboost-2022-08-12-21-28-30-212/debug-output/events/000000000055/000000000055_worker_0.tfevents'},\n",
       "   {'Key': 'output/binary-clasification/debug/sagemaker-xgboost-2022-08-12-21-28-30-212/debug-output/events/000000000043/000000000043_worker_0.tfevents'},\n",
       "   {'Key': 'output/binary-clasification/debug/sagemaker-xgboost-2022-08-12-21-28-30-212/debug-output/index/000000000/000000000050_worker_0.json'},\n",
       "   {'Key': 'output/binary-clasification/debug/sagemaker-xgboost-2022-08-12-21-28-30-212/debug-output/index/000000000/000000000088_worker_0.json'},\n",
       "   {'Key': 'output/binary-clasification/debug/sagemaker-xgboost-2022-08-12-21-28-30-212/debug-output/index/000000000/000000000021_worker_0.json'},\n",
       "   {'Key': 'output/binary-clasification/debug/sagemaker-xgboost-2022-08-12-21-28-30-212/debug-output/index/000000000/000000000008_worker_0.json'},\n",
       "   {'Key': 'output/binary-clasification/debug/sagemaker-xgboost-2022-08-12-21-28-30-212/debug-output/events/000000000017/000000000017_worker_0.tfevents'},\n",
       "   {'Key': 'output/binary-clasification/debug/sagemaker-xgboost-2022-08-12-21-28-30-212/debug-output/events/000000000029/000000000029_worker_0.tfevents'},\n",
       "   {'Key': 'output/binary-clasification/debug/sagemaker-xgboost-2022-08-12-21-28-30-212/debug-output/events/000000000034/000000000034_worker_0.tfevents'},\n",
       "   {'Key': 'output/binary-clasification/debug/sagemaker-xgboost-2022-08-12-21-28-30-212/debug-output/index/000000000/000000000042_worker_0.json'},\n",
       "   {'Key': 'output/binary-clasification/debug/sagemaker-xgboost-2022-08-12-21-28-30-212/debug-output/events/000000000073/000000000073_worker_0.tfevents'},\n",
       "   {'Key': 'output/binary-clasification/debug/sagemaker-xgboost-2022-08-12-21-28-30-212/debug-output/index/000000000/000000000046_worker_0.json'},\n",
       "   {'Key': 'output/binary-clasification/debug/sagemaker-xgboost-2022-08-12-21-28-30-212/debug-output/events/000000000024/000000000024_worker_0.tfevents'},\n",
       "   {'Key': 'output/binary-clasification/debug/sagemaker-xgboost-2022-08-12-21-28-30-212/debug-output/events/000000000077/000000000077_worker_0.tfevents'},\n",
       "   {'Key': 'output/binary-clasification/debug/sagemaker-xgboost-2022-08-12-21-28-30-212/debug-output/events/000000000060/000000000060_worker_0.tfevents'},\n",
       "   {'Key': 'output/binary-clasification/debug/sagemaker-xgboost-2022-08-12-21-28-30-212/debug-output/index/000000000/000000000074_worker_0.json'},\n",
       "   {'Key': 'output/binary-clasification/debug/sagemaker-xgboost-2022-08-12-21-28-30-212/debug-output/index/000000000/000000000032_worker_0.json'},\n",
       "   {'Key': 'output/binary-clasification/debug/sagemaker-xgboost-2022-08-12-21-28-30-212/debug-output/events/000000000054/000000000054_worker_0.tfevents'},\n",
       "   {'Key': 'output/binary-clasification/debug/sagemaker-xgboost-2022-08-12-21-28-30-212/debug-output/events/000000000083/000000000083_worker_0.tfevents'},\n",
       "   {'Key': 'output/binary-clasification/debug/sagemaker-xgboost-2022-08-12-21-28-30-212/debug-output/events/000000000095/000000000095_worker_0.tfevents'},\n",
       "   {'Key': 'output/binary-clasification/debug/sagemaker-xgboost-2022-08-12-21-28-30-212/debug-output/events/000000000038/000000000038_worker_0.tfevents'},\n",
       "   {'Key': 'output/binary-clasification/debug/sagemaker-xgboost-2022-08-12-21-28-30-212/debug-output/index/000000000/000000000020_worker_0.json'},\n",
       "   {'Key': 'output/binary-clasification/debug/sagemaker-xgboost-2022-08-12-21-28-30-212/debug-output/events/000000000090/000000000090_worker_0.tfevents'},\n",
       "   {'Key': 'output/binary-clasification/debug/sagemaker-xgboost-2022-08-12-21-28-30-212/debug-output/index/000000000/000000000081_worker_0.json'},\n",
       "   {'Key': 'output/binary-clasification/debug/sagemaker-xgboost-2022-08-12-21-28-30-212/debug-output/events/000000000086/000000000086_worker_0.tfevents'},\n",
       "   {'Key': 'output/binary-clasification/debug/sagemaker-xgboost-2022-08-12-21-28-30-212/debug-output/index/000000000/000000000057_worker_0.json'},\n",
       "   {'Key': 'output/binary-clasification/debug/sagemaker-xgboost-2022-08-12-21-28-30-212/debug-output/index/000000000/000000000000_worker_0.json'},\n",
       "   {'Key': 'output/binary-clasification/debug/sagemaker-xgboost-2022-08-12-21-28-30-212/debug-output/events/000000000081/000000000081_worker_0.tfevents'},\n",
       "   {'Key': 'output/binary-clasification/debug/sagemaker-xgboost-2022-08-12-21-28-30-212/debug-output/events/000000000001/000000000001_worker_0.tfevents'},\n",
       "   {'Key': 'output/binary-clasification/debug/sagemaker-xgboost-2022-08-12-21-28-30-212/debug-output/events/000000000002/000000000002_worker_0.tfevents'},\n",
       "   {'Key': 'output/binary-clasification/debug/sagemaker-xgboost-2022-08-12-21-28-30-212/debug-output/events/000000000082/000000000082_worker_0.tfevents'},\n",
       "   {'Key': 'output/binary-clasification/debug/sagemaker-xgboost-2022-08-12-21-28-30-212/debug-output/claim.smd'},\n",
       "   {'Key': 'output/binary-clasification/debug/sagemaker-xgboost-2022-08-12-21-28-30-212/debug-output/events/000000000068/000000000068_worker_0.tfevents'},\n",
       "   {'Key': 'output/binary-clasification/debug/sagemaker-xgboost-2022-08-12-21-28-30-212/debug-output/index/000000000/000000000028_worker_0.json'},\n",
       "   {'Key': 'output/binary-clasification/debug/sagemaker-xgboost-2022-08-12-21-28-30-212/debug-output/index/000000000/000000000019_worker_0.json'},\n",
       "   {'Key': 'output/binary-clasification/debug/sagemaker-xgboost-2022-08-12-21-28-30-212/debug-output/index/000000000/000000000066_worker_0.json'},\n",
       "   {'Key': 'output/binary-clasification/debug/sagemaker-xgboost-2022-08-12-21-28-30-212/debug-output/events/000000000044/000000000044_worker_0.tfevents'},\n",
       "   {'Key': 'output/binary-clasification/debug/sagemaker-xgboost-2022-08-12-21-28-30-212/debug-output/events/000000000072/000000000072_worker_0.tfevents'},\n",
       "   {'Key': 'output/binary-clasification/debug/sagemaker-xgboost-2022-08-12-21-28-30-212/debug-output/events/000000000030/000000000030_worker_0.tfevents'},\n",
       "   {'Key': 'output/binary-clasification/debug/sagemaker-xgboost-2022-08-12-21-28-30-212/debug-output/events/000000000085/000000000085_worker_0.tfevents'},\n",
       "   {'Key': 'output/binary-clasification/debug/sagemaker-xgboost-2022-08-12-21-28-30-212/debug-output/index/000000000/000000000056_worker_0.json'},\n",
       "   {'Key': 'output/binary-clasification/debug/sagemaker-xgboost-2022-08-12-21-28-30-212/debug-output/index/000000000/000000000018_worker_0.json'},\n",
       "   {'Key': 'output/binary-clasification/debug/sagemaker-xgboost-2022-08-12-21-28-30-212/debug-output/index/000000000/000000000080_worker_0.json'},\n",
       "   {'Key': 'output/binary-clasification/debug/sagemaker-xgboost-2022-08-12-21-28-30-212/debug-output/index/000000000/000000000062_worker_0.json'},\n",
       "   {'Key': 'output/binary-clasification/debug/sagemaker-xgboost-2022-08-12-21-28-30-212/debug-output/events/000000000051/000000000051_worker_0.tfevents'},\n",
       "   {'Key': 'output/binary-clasification/debug/sagemaker-xgboost-2022-08-12-21-28-30-212/debug-output/index/000000000/000000000023_worker_0.json'},\n",
       "   {'Key': 'output/binary-clasification/debug/sagemaker-xgboost-2022-08-12-21-28-30-212/debug-output/events/000000000092/000000000092_worker_0.tfevents'},\n",
       "   {'Key': 'output/binary-clasification/debug/sagemaker-xgboost-2022-08-12-21-28-30-212/debug-output/index/000000000/000000000014_worker_0.json'},\n",
       "   {'Key': 'output/binary-clasification/debug/sagemaker-xgboost-2022-08-12-21-28-30-212/debug-output/events/000000000041/000000000041_worker_0.tfevents'},\n",
       "   {'Key': 'output/binary-clasification/debug/sagemaker-xgboost-2022-08-12-21-28-30-212/debug-output/index/000000000/000000000077_worker_0.json'},\n",
       "   {'Key': 'output/binary-clasification/debug/sagemaker-xgboost-2022-08-12-21-28-30-212/debug-output/index/000000000/000000000010_worker_0.json'},\n",
       "   {'Key': 'output/binary-clasification/debug/sagemaker-xgboost-2022-08-12-21-28-30-212/debug-output/index/000000000/000000000068_worker_0.json'},\n",
       "   {'Key': 'output/binary-clasification/debug/sagemaker-xgboost-2022-08-12-21-28-30-212/debug-output/events/000000000035/000000000035_worker_0.tfevents'},\n",
       "   {'Key': 'output/binary-clasification/debug/sagemaker-xgboost-2022-08-12-21-28-30-212/debug-output/index/000000000/000000000015_worker_0.json'},\n",
       "   {'Key': 'output/binary-clasification/debug/sagemaker-xgboost-2022-08-12-21-28-30-212/debug-output/index/000000000/000000000098_worker_0.json'},\n",
       "   {'Key': 'output/binary-clasification/debug/sagemaker-xgboost-2022-08-12-21-28-30-212/debug-output/index/000000000/000000000099_worker_0.json'},\n",
       "   {'Key': 'output/binary-clasification/debug/sagemaker-xgboost-2022-08-12-21-28-30-212/debug-output/index/000000000/000000000013_worker_0.json'},\n",
       "   {'Key': 'output/binary-clasification/debug/sagemaker-xgboost-2022-08-12-21-28-30-212/debug-output/index/000000000/000000000041_worker_0.json'},\n",
       "   {'Key': 'output/binary-clasification/debug/sagemaker-xgboost-2022-08-12-21-28-30-212/debug-output/index/000000000/000000000058_worker_0.json'},\n",
       "   {'Key': 'output/binary-clasification/debug/sagemaker-xgboost-2022-08-12-21-28-30-212/debug-output/events/000000000075/000000000075_worker_0.tfevents'},\n",
       "   {'Key': 'output/binary-clasification/debug/sagemaker-xgboost-2022-08-12-21-28-30-212/debug-output/index/000000000/000000000034_worker_0.json'},\n",
       "   {'Key': 'output/binary-clasification/debug/sagemaker-xgboost-2022-08-12-21-28-30-212/debug-output/events/000000000088/000000000088_worker_0.tfevents'},\n",
       "   {'Key': 'output/binary-clasification/debug/sagemaker-xgboost-2022-08-12-21-28-30-212/debug-output/events/000000000099/000000000099_worker_0.tfevents'},\n",
       "   {'Key': 'output/binary-clasification/debug/sagemaker-xgboost-2022-08-12-21-28-30-212/debug-output/index/000000000/000000000064_worker_0.json'},\n",
       "   {'Key': 'output/binary-clasification/debug/sagemaker-xgboost-2022-08-12-21-28-30-212/debug-output/index/000000000/000000000082_worker_0.json'},\n",
       "   {'Key': 'output/binary-clasification/debug/sagemaker-xgboost-2022-08-12-21-28-30-212/debug-output/events/000000000009/000000000009_worker_0.tfevents'},\n",
       "   {'Key': 'output/binary-clasification/debug/sagemaker-xgboost-2022-08-12-21-28-30-212/debug-output/events/000000000019/000000000019_worker_0.tfevents'},\n",
       "   {'Key': 'output/binary-clasification/debug/sagemaker-xgboost-2022-08-12-21-28-30-212/debug-output/events/000000000084/000000000084_worker_0.tfevents'},\n",
       "   {'Key': 'output/binary-clasification/debug/sagemaker-xgboost-2022-08-12-21-28-30-212/debug-output/index/000000000/000000000093_worker_0.json'},\n",
       "   {'Key': 'output/binary-clasification/debug/sagemaker-xgboost-2022-08-12-21-28-30-212/debug-output/events/000000000039/000000000039_worker_0.tfevents'},\n",
       "   {'Key': 'output/binary-clasification/debug/sagemaker-xgboost-2022-08-12-21-28-30-212/debug-output/index/000000000/000000000040_worker_0.json'},\n",
       "   {'Key': 'output/binary-clasification/debug/sagemaker-xgboost-2022-08-12-21-28-30-212/debug-output/events/000000000018/000000000018_worker_0.tfevents'},\n",
       "   {'Key': 'output/binary-clasification/debug/sagemaker-xgboost-2022-08-12-21-28-30-212/debug-output/events/000000000020/000000000020_worker_0.tfevents'},\n",
       "   {'Key': 'output/binary-clasification/debug/sagemaker-xgboost-2022-08-12-21-28-30-212/debug-output/index/000000000/000000000076_worker_0.json'},\n",
       "   {'Key': 'output/binary-clasification/debug/sagemaker-xgboost-2022-08-12-21-28-30-212/debug-output/index/000000000/000000000083_worker_0.json'},\n",
       "   {'Key': 'output/binary-clasification/debug/sagemaker-xgboost-2022-08-12-21-28-30-212/debug-output/index/000000000/000000000022_worker_0.json'},\n",
       "   {'Key': 'output/binary-clasification/debug/sagemaker-xgboost-2022-08-12-21-28-30-212/debug-output/events/000000000098/000000000098_worker_0.tfevents'},\n",
       "   {'Key': 'output/binary-clasification/debug/sagemaker-xgboost-2022-08-12-21-28-30-212/debug-output/index/000000000/000000000001_worker_0.json'},\n",
       "   {'Key': 'output/binary-clasification/debug/sagemaker-xgboost-2022-08-12-21-28-30-212/debug-output/events/000000000025/000000000025_worker_0.tfevents'},\n",
       "   {'Key': 'output/binary-clasification/debug/sagemaker-xgboost-2022-08-12-21-28-30-212/debug-output/events/000000000061/000000000061_worker_0.tfevents'},\n",
       "   {'Key': 'output/binary-clasification/debug/sagemaker-xgboost-2022-08-12-21-28-30-212/debug-output/index/000000000/000000000048_worker_0.json'},\n",
       "   {'Key': 'output/binary-clasification/debug/sagemaker-xgboost-2022-08-12-21-28-30-212/debug-output/events/000000000062/000000000062_worker_0.tfevents'},\n",
       "   {'Key': 'output/binary-clasification/debug/sagemaker-xgboost-2022-08-12-21-28-30-212/debug-output/events/000000000065/000000000065_worker_0.tfevents'},\n",
       "   {'Key': 'output/binary-clasification/debug/sagemaker-xgboost-2022-08-12-21-28-30-212/debug-output/index/000000000/000000000090_worker_0.json'},\n",
       "   {'Key': 'output/binary-clasification/debug/sagemaker-xgboost-2022-08-12-21-28-30-212/debug-output/index/000000000/000000000004_worker_0.json'},\n",
       "   {'Key': 'output/binary-clasification/debug/sagemaker-xgboost-2022-08-12-21-28-30-212/debug-output/index/000000000/000000000054_worker_0.json'},\n",
       "   {'Key': 'output/binary-clasification/debug/sagemaker-xgboost-2022-08-12-21-28-30-212/debug-output/events/000000000045/000000000045_worker_0.tfevents'},\n",
       "   {'Key': 'output/binary-clasification/debug/sagemaker-xgboost-2022-08-12-21-28-30-212/debug-output/events/000000000074/000000000074_worker_0.tfevents'},\n",
       "   {'Key': 'output/binary-clasification/debug/sagemaker-xgboost-2022-08-12-21-28-30-212/debug-output/events/000000000006/000000000006_worker_0.tfevents'},\n",
       "   {'Key': 'output/binary-clasification/debug/sagemaker-xgboost-2022-08-12-21-28-30-212/debug-output/index/000000000/000000000061_worker_0.json'},\n",
       "   {'Key': 'output/binary-clasification/debug/sagemaker-xgboost-2022-08-12-21-28-30-212/debug-output/events/000000000080/000000000080_worker_0.tfevents'},\n",
       "   {'Key': 'output/binary-clasification/debug/sagemaker-xgboost-2022-08-12-21-28-30-212/debug-output/events/000000000087/000000000087_worker_0.tfevents'},\n",
       "   {'Key': 'output/binary-clasification/debug/sagemaker-xgboost-2022-08-12-21-28-30-212/debug-output/index/000000000/000000000079_worker_0.json'},\n",
       "   {'Key': 'output/binary-clasification/debug/sagemaker-xgboost-2022-08-12-21-28-30-212/debug-output/events/000000000000/000000000000_worker_0.tfevents'},\n",
       "   {'Key': 'output/binary-clasification/debug/sagemaker-xgboost-2022-08-12-21-28-30-212/debug-output/events/000000000005/000000000005_worker_0.tfevents'},\n",
       "   {'Key': 'output/binary-clasification/debug/sagemaker-xgboost-2022-08-12-21-28-30-212/debug-output/events/000000000053/000000000053_worker_0.tfevents'},\n",
       "   {'Key': 'output/binary-clasification/debug/sagemaker-xgboost-2022-08-12-21-28-30-212/debug-output/index/000000000/000000000011_worker_0.json'},\n",
       "   {'Key': 'output/binary-clasification/debug/sagemaker-xgboost-2022-08-12-21-28-30-212/debug-output/events/000000000047/000000000047_worker_0.tfevents'},\n",
       "   {'Key': 'output/binary-clasification/debug/sagemaker-xgboost-2022-08-12-21-28-30-212/debug-output/index/000000000/000000000095_worker_0.json'},\n",
       "   {'Key': 'output/binary-clasification/debug/sagemaker-xgboost-2022-08-12-21-28-30-212/debug-output/index/000000000/000000000003_worker_0.json'},\n",
       "   {'Key': 'output/binary-clasification/debug/sagemaker-xgboost-2022-08-12-21-28-30-212/debug-output/events/000000000021/000000000021_worker_0.tfevents'},\n",
       "   {'Key': 'output/binary-clasification/debug/sagemaker-xgboost-2022-08-12-21-28-30-212/debug-output/events/000000000052/000000000052_worker_0.tfevents'},\n",
       "   {'Key': 'output/binary-clasification/debug/sagemaker-xgboost-2022-08-12-21-28-30-212/debug-output/index/000000000/000000000069_worker_0.json'},\n",
       "   {'Key': 'output/binary-clasification/debug/sagemaker-xgboost-2022-08-12-21-28-30-212/debug-output/index/000000000/000000000024_worker_0.json'},\n",
       "   {'Key': 'output/binary-clasification/debug/sagemaker-xgboost-2022-08-12-21-28-30-212/debug-output/events/000000000016/000000000016_worker_0.tfevents'},\n",
       "   {'Key': 'output/binary-clasification/debug/sagemaker-xgboost-2022-08-12-21-28-30-212/debug-output/events/000000000040/000000000040_worker_0.tfevents'},\n",
       "   {'Key': 'output/binary-clasification/debug/sagemaker-xgboost-2022-08-12-21-28-30-212/debug-output/index/000000000/000000000026_worker_0.json'},\n",
       "   {'Key': 'output/binary-clasification/debug/sagemaker-xgboost-2022-08-12-21-28-30-212/debug-output/events/000000000003/000000000003_worker_0.tfevents'}]}]"
      ]
     },
     "execution_count": 222,
     "metadata": {},
     "output_type": "execute_result"
    }
   ],
   "source": [
    "bucket = boto3.resource('s3').Bucket(bucket_name)\n",
    "bucket.objects.filter(Prefix=\"output/binary-clasification/\").delete()"
   ]
  },
  {
   "cell_type": "code",
   "execution_count": 236,
   "id": "b09d59d4",
   "metadata": {},
   "outputs": [],
   "source": [
    "test_samples = pd.read_csv('s3://{}/data/{}/test.csv'.format(bucket_name, prefix), nrows=10, index_col=None)\n",
    "# test_samples = test_samples.values.tolist()\n",
    "# test_samples"
   ]
  },
  {
   "cell_type": "code",
   "execution_count": 237,
   "id": "0e7a8712",
   "metadata": {},
   "outputs": [
    {
     "data": {
      "text/plain": [
       "{'1649.0': {0: 401.0,\n",
       "  1: 1523.0,\n",
       "  2: 1223.0,\n",
       "  3: 1500.0,\n",
       "  4: 1330.0,\n",
       "  5: 1411.0,\n",
       "  6: 2218.0,\n",
       "  7: 1211.0,\n",
       "  8: 2160.0,\n",
       "  9: 1832.0},\n",
       " '73': {0: 44, 1: 73, 2: 97, 3: 16, 4: 3, 5: 0, 6: 107, 7: 21, 8: 1, 9: 84},\n",
       " '165': {0: 2, 1: 31, 2: 31, 3: 270, 4: 12, 5: 37, 6: 424, 7: 39, 8: 1, 9: 31},\n",
       " '0': {0: 0, 1: 1, 2: 0, 3: 0, 4: 0, 5: 1, 6: 1, 7: 0, 8: 0, 9: 1},\n",
       " '1722.0': {0: 511.0,\n",
       "  1: 1579.0,\n",
       "  2: 1357.0,\n",
       "  3: 1736.0,\n",
       "  4: 1425.0,\n",
       "  5: 1484.0,\n",
       "  6: 2247.0,\n",
       "  7: 1266.0,\n",
       "  8: 2191.0,\n",
       "  9: 2142.0},\n",
       " '21336.37': {0: 9726.6,\n",
       "  1: 1738.38,\n",
       "  2: 10962.0,\n",
       "  3: 9187.2,\n",
       "  4: 51272.0,\n",
       "  5: 1450.0,\n",
       "  6: 9893.87,\n",
       "  7: 128760.0,\n",
       "  8: 1212.2,\n",
       "  9: 9600.0},\n",
       " '18135.91': {0: 9726.6,\n",
       "  1: 1477.62,\n",
       "  2: 9317.7,\n",
       "  3: 7809.12,\n",
       "  4: 43581.2,\n",
       "  5: 1232.5,\n",
       "  6: 8409.79,\n",
       "  7: 109446.0,\n",
       "  8: 1030.37,\n",
       "  9: 8160.0},\n",
       " '1280.18': {0: 417.31,\n",
       "  1: 80.01,\n",
       "  2: 351.38,\n",
       "  3: 226.53,\n",
       "  4: 4003.43,\n",
       "  5: 52.44,\n",
       "  6: 175.34,\n",
       "  7: 5820.66,\n",
       "  8: 30.89,\n",
       "  9: 862.68}}"
      ]
     },
     "execution_count": 237,
     "metadata": {},
     "output_type": "execute_result"
    }
   ],
   "source": []
  }
 ],
 "metadata": {
  "kernelspec": {
   "display_name": "conda_python3",
   "language": "python",
   "name": "conda_python3"
  },
  "language_info": {
   "codemirror_mode": {
    "name": "ipython",
    "version": 3
   },
   "file_extension": ".py",
   "mimetype": "text/x-python",
   "name": "python",
   "nbconvert_exporter": "python",
   "pygments_lexer": "ipython3",
   "version": "3.8.12"
  }
 },
 "nbformat": 4,
 "nbformat_minor": 5
}
