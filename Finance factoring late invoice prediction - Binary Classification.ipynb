{
 "cells": [
  {
   "cell_type": "code",
   "execution_count": null,
   "id": "09b3b150",
   "metadata": {},
   "outputs": [],
   "source": [
    "# Install xgboost in notebook instance.\n",
    "!pip install xgboost==1.2"
   ]
  },
  {
   "cell_type": "code",
   "execution_count": 1287,
   "id": "e7ee1248",
   "metadata": {},
   "outputs": [],
   "source": [
    "# Import required dependencies\n",
    "import boto3\n",
    "import pandas as pd\n",
    "import numpy as np\n",
    "\n",
    "# Data visualization\n",
    "import matplotlib.pyplot as plt\n",
    "import seaborn as sns\n",
    "\n",
    "%matplotlib inline\n",
    "\n",
    "from datetime import datetime\n",
    "\n",
    "from sklearn.model_selection import train_test_split\n",
    "\n",
    "from sklearn.metrics import f1_score, confusion_matrix, accuracy_score, ConfusionMatrixDisplay\n",
    "\n",
    "from xgboost import XGBClassifier\n",
    "from sklearn.tree import DecisionTreeClassifier\n",
    "import xgboost as xgb_lib\n",
    "from sklearn.linear_model import LogisticRegression\n",
    "\n",
    "import sklearn"
   ]
  },
  {
   "cell_type": "code",
   "execution_count": 1331,
   "id": "874e8cec",
   "metadata": {},
   "outputs": [
    {
     "data": {
      "text/html": [
       "<div>\n",
       "<style scoped>\n",
       "    .dataframe tbody tr th:only-of-type {\n",
       "        vertical-align: middle;\n",
       "    }\n",
       "\n",
       "    .dataframe tbody tr th {\n",
       "        vertical-align: top;\n",
       "    }\n",
       "\n",
       "    .dataframe thead th {\n",
       "        text-align: right;\n",
       "    }\n",
       "</style>\n",
       "<table border=\"1\" class=\"dataframe\">\n",
       "  <thead>\n",
       "    <tr style=\"text-align: right;\">\n",
       "      <th></th>\n",
       "      <th>Fecha</th>\n",
       "      <th>RFCCliente</th>\n",
       "      <th>RFCPagador</th>\n",
       "      <th>Moneda</th>\n",
       "      <th>FechaVencimiento</th>\n",
       "      <th>Monto</th>\n",
       "      <th>DepositoInicial</th>\n",
       "      <th>Intereses</th>\n",
       "      <th>FechaPago</th>\n",
       "    </tr>\n",
       "  </thead>\n",
       "  <tbody>\n",
       "    <tr>\n",
       "      <th>0</th>\n",
       "      <td>1918.0</td>\n",
       "      <td>0</td>\n",
       "      <td>0</td>\n",
       "      <td>1</td>\n",
       "      <td>1953.0</td>\n",
       "      <td>38879.48</td>\n",
       "      <td>33047.56</td>\n",
       "      <td>2351.94</td>\n",
       "      <td>1939.0</td>\n",
       "    </tr>\n",
       "    <tr>\n",
       "      <th>1</th>\n",
       "      <td>1634.0</td>\n",
       "      <td>1</td>\n",
       "      <td>1</td>\n",
       "      <td>0</td>\n",
       "      <td>1654.0</td>\n",
       "      <td>6658.40</td>\n",
       "      <td>5659.64</td>\n",
       "      <td>109.45</td>\n",
       "      <td>1638.0</td>\n",
       "    </tr>\n",
       "    <tr>\n",
       "      <th>2</th>\n",
       "      <td>1583.0</td>\n",
       "      <td>2</td>\n",
       "      <td>2</td>\n",
       "      <td>1</td>\n",
       "      <td>1551.0</td>\n",
       "      <td>791.12</td>\n",
       "      <td>791.12</td>\n",
       "      <td>29.26</td>\n",
       "      <td>1551.0</td>\n",
       "    </tr>\n",
       "    <tr>\n",
       "      <th>3</th>\n",
       "      <td>2282.0</td>\n",
       "      <td>3</td>\n",
       "      <td>3</td>\n",
       "      <td>0</td>\n",
       "      <td>2225.0</td>\n",
       "      <td>33048.00</td>\n",
       "      <td>28090.80</td>\n",
       "      <td>814.88</td>\n",
       "      <td>2226.0</td>\n",
       "    </tr>\n",
       "    <tr>\n",
       "      <th>4</th>\n",
       "      <td>2110.0</td>\n",
       "      <td>4</td>\n",
       "      <td>4</td>\n",
       "      <td>0</td>\n",
       "      <td>2170.0</td>\n",
       "      <td>424634.82</td>\n",
       "      <td>360939.60</td>\n",
       "      <td>10615.87</td>\n",
       "      <td>2166.0</td>\n",
       "    </tr>\n",
       "  </tbody>\n",
       "</table>\n",
       "</div>"
      ],
      "text/plain": [
       "    Fecha  RFCCliente  RFCPagador  Moneda  FechaVencimiento      Monto  \\\n",
       "0  1918.0           0           0       1            1953.0   38879.48   \n",
       "1  1634.0           1           1       0            1654.0    6658.40   \n",
       "2  1583.0           2           2       1            1551.0     791.12   \n",
       "3  2282.0           3           3       0            2225.0   33048.00   \n",
       "4  2110.0           4           4       0            2170.0  424634.82   \n",
       "\n",
       "   DepositoInicial  Intereses  FechaPago  \n",
       "0         33047.56    2351.94     1939.0  \n",
       "1          5659.64     109.45     1638.0  \n",
       "2           791.12      29.26     1551.0  \n",
       "3         28090.80     814.88     2226.0  \n",
       "4        360939.60   10615.87     2166.0  "
      ]
     },
     "execution_count": 1331,
     "metadata": {},
     "output_type": "execute_result"
    }
   ],
   "source": [
    "# Readind data\n",
    "bucket_name = 'finance-factoring-ml-dev'\n",
    "\n",
    "df = pd.read_csv('s3://{}/data/all.csv'.format(bucket_name))\n",
    "df.head()"
   ]
  },
  {
   "cell_type": "markdown",
   "id": "5775cd51",
   "metadata": {},
   "source": [
    "# 5. Prepare dataframes for modeling approaches"
   ]
  },
  {
   "cell_type": "markdown",
   "id": "67e4bb47",
   "metadata": {},
   "source": [
    "Build target column \"PaidLate\"\n",
    "> * 0: Invoice is paid on time\n",
    "> * 1: Invoice is paid late"
   ]
  },
  {
   "cell_type": "code",
   "execution_count": 1332,
   "id": "8b1d418e",
   "metadata": {},
   "outputs": [],
   "source": [
    "def const_paidLate(df):\n",
    "    df['PaidLate'] = (df['FechaPago'] > df['FechaVencimiento'])*1\n",
    "    return df\n",
    "\n",
    "df = const_paidLate(df)\n",
    "\n",
    "df.drop(\"FechaPago\", axis=1, inplace=True)"
   ]
  },
  {
   "cell_type": "code",
   "execution_count": 1335,
   "id": "d3eda4db",
   "metadata": {},
   "outputs": [
    {
     "data": {
      "text/html": [
       "<div>\n",
       "<style scoped>\n",
       "    .dataframe tbody tr th:only-of-type {\n",
       "        vertical-align: middle;\n",
       "    }\n",
       "\n",
       "    .dataframe tbody tr th {\n",
       "        vertical-align: top;\n",
       "    }\n",
       "\n",
       "    .dataframe thead th {\n",
       "        text-align: right;\n",
       "    }\n",
       "</style>\n",
       "<table border=\"1\" class=\"dataframe\">\n",
       "  <thead>\n",
       "    <tr style=\"text-align: right;\">\n",
       "      <th></th>\n",
       "      <th>Fecha</th>\n",
       "      <th>RFCCliente</th>\n",
       "      <th>RFCPagador</th>\n",
       "      <th>Moneda</th>\n",
       "      <th>FechaVencimiento</th>\n",
       "      <th>Monto</th>\n",
       "      <th>DepositoInicial</th>\n",
       "      <th>Intereses</th>\n",
       "      <th>PaidLate</th>\n",
       "    </tr>\n",
       "  </thead>\n",
       "  <tbody>\n",
       "    <tr>\n",
       "      <th>0</th>\n",
       "      <td>1918.0</td>\n",
       "      <td>0</td>\n",
       "      <td>0</td>\n",
       "      <td>1</td>\n",
       "      <td>1953.0</td>\n",
       "      <td>38879.48</td>\n",
       "      <td>33047.56</td>\n",
       "      <td>2351.94</td>\n",
       "      <td>0</td>\n",
       "    </tr>\n",
       "    <tr>\n",
       "      <th>1</th>\n",
       "      <td>1634.0</td>\n",
       "      <td>1</td>\n",
       "      <td>1</td>\n",
       "      <td>0</td>\n",
       "      <td>1654.0</td>\n",
       "      <td>6658.40</td>\n",
       "      <td>5659.64</td>\n",
       "      <td>109.45</td>\n",
       "      <td>0</td>\n",
       "    </tr>\n",
       "    <tr>\n",
       "      <th>2</th>\n",
       "      <td>1583.0</td>\n",
       "      <td>2</td>\n",
       "      <td>2</td>\n",
       "      <td>1</td>\n",
       "      <td>1551.0</td>\n",
       "      <td>791.12</td>\n",
       "      <td>791.12</td>\n",
       "      <td>29.26</td>\n",
       "      <td>0</td>\n",
       "    </tr>\n",
       "    <tr>\n",
       "      <th>3</th>\n",
       "      <td>2282.0</td>\n",
       "      <td>3</td>\n",
       "      <td>3</td>\n",
       "      <td>0</td>\n",
       "      <td>2225.0</td>\n",
       "      <td>33048.00</td>\n",
       "      <td>28090.80</td>\n",
       "      <td>814.88</td>\n",
       "      <td>1</td>\n",
       "    </tr>\n",
       "    <tr>\n",
       "      <th>4</th>\n",
       "      <td>2110.0</td>\n",
       "      <td>4</td>\n",
       "      <td>4</td>\n",
       "      <td>0</td>\n",
       "      <td>2170.0</td>\n",
       "      <td>424634.82</td>\n",
       "      <td>360939.60</td>\n",
       "      <td>10615.87</td>\n",
       "      <td>0</td>\n",
       "    </tr>\n",
       "  </tbody>\n",
       "</table>\n",
       "</div>"
      ],
      "text/plain": [
       "    Fecha  RFCCliente  RFCPagador  Moneda  FechaVencimiento      Monto  \\\n",
       "0  1918.0           0           0       1            1953.0   38879.48   \n",
       "1  1634.0           1           1       0            1654.0    6658.40   \n",
       "2  1583.0           2           2       1            1551.0     791.12   \n",
       "3  2282.0           3           3       0            2225.0   33048.00   \n",
       "4  2110.0           4           4       0            2170.0  424634.82   \n",
       "\n",
       "   DepositoInicial  Intereses  PaidLate  \n",
       "0         33047.56    2351.94         0  \n",
       "1          5659.64     109.45         0  \n",
       "2           791.12      29.26         0  \n",
       "3         28090.80     814.88         1  \n",
       "4        360939.60   10615.87         0  "
      ]
     },
     "execution_count": 1335,
     "metadata": {},
     "output_type": "execute_result"
    }
   ],
   "source": [
    "df.head()"
   ]
  },
  {
   "cell_type": "code",
   "execution_count": 1337,
   "id": "002bf4ed",
   "metadata": {},
   "outputs": [
    {
     "data": {
      "text/plain": [
       "5776"
      ]
     },
     "execution_count": 1337,
     "metadata": {},
     "output_type": "execute_result"
    }
   ],
   "source": [
    "df.PaidLate.sum()"
   ]
  },
  {
   "cell_type": "markdown",
   "id": "ecf3c16c",
   "metadata": {},
   "source": [
    "Separate target for predictions"
   ]
  },
  {
   "cell_type": "code",
   "execution_count": 1338,
   "id": "b2a62f20",
   "metadata": {},
   "outputs": [],
   "source": [
    "X = df.drop(['PaidLate'], axis=1)\n",
    "y = df.PaidLate"
   ]
  },
  {
   "cell_type": "code",
   "execution_count": 1339,
   "id": "8d454456",
   "metadata": {},
   "outputs": [
    {
     "name": "stdout",
     "output_type": "stream",
     "text": [
      "Trainging dataset shape:  (14966, 8)\n",
      "Test dataset shape:  (3742, 8)\n"
     ]
    }
   ],
   "source": [
    "# Break off validation set from training data set\n",
    "X_train, X_test, y_train, y_test = train_test_split(X, y, train_size=0.8, test_size=0.2, random_state=0)\n",
    "print('Trainging dataset shape: ', X_train.shape)\n",
    "print('Test dataset shape: ', X_test.shape)"
   ]
  },
  {
   "cell_type": "markdown",
   "id": "84a3afaa",
   "metadata": {},
   "source": [
    "## 5.1 Decision Tree Classifier"
   ]
  },
  {
   "cell_type": "code",
   "execution_count": 1340,
   "id": "cf5eed11",
   "metadata": {
    "scrolled": true
   },
   "outputs": [
    {
     "name": "stdout",
     "output_type": "stream",
     "text": [
      "The Accuracy for DecisionTreeClassifier is:  89  %\n"
     ]
    },
    {
     "data": {
      "text/plain": [
       "<sklearn.metrics._plot.confusion_matrix.ConfusionMatrixDisplay at 0x7f31f00526a0>"
      ]
     },
     "execution_count": 1340,
     "metadata": {},
     "output_type": "execute_result"
    },
    {
     "data": {
      "image/png": "[encoded data removed]",
      "text/plain": [
       "<Figure size 432x288 with 2 Axes>"
      ]
     },
     "metadata": {
      "needs_background": "light"
     },
     "output_type": "display_data"
    }
   ],
   "source": [
    "tree = DecisionTreeClassifier()\n",
    "tree = tree.fit(X_train, y_train)\n",
    "\n",
    "predicted_tree = tree.predict(X_test)\n",
    "\n",
    "ac_tree = accuracy_score(y_test, predicted_tree)\n",
    "print('The Accuracy for DecisionTreeClassifier is: ', int(ac_tree * 100), \" %\")\n",
    "\n",
    "cm = confusion_matrix(y_test, predicted_tree, labels=tree.classes_)\n",
    "disp = ConfusionMatrixDisplay(confusion_matrix=cm, display_labels=tree.classes_)\n",
    "disp.plot()"
   ]
  },
  {
   "cell_type": "markdown",
   "id": "9bbc8f26",
   "metadata": {},
   "source": [
    "## 5.2 XGBoost Classifier"
   ]
  },
  {
   "cell_type": "code",
   "execution_count": 1341,
   "id": "028b9611",
   "metadata": {},
   "outputs": [
    {
     "name": "stdout",
     "output_type": "stream",
     "text": [
      "The Accuracy for XGBClassifier is:  87  %\n"
     ]
    },
    {
     "data": {
      "text/plain": [
       "<sklearn.metrics._plot.confusion_matrix.ConfusionMatrixDisplay at 0x7f31ef9d5370>"
      ]
     },
     "execution_count": 1341,
     "metadata": {},
     "output_type": "execute_result"
    },
    {
     "data": {
      "image/png": "[encoded data removed]",
      "text/plain": [
       "<Figure size 432x288 with 2 Axes>"
      ]
     },
     "metadata": {
      "needs_background": "light"
     },
     "output_type": "display_data"
    }
   ],
   "source": [
    "xgb = XGBClassifier(random_state=0,\n",
    "                    n_estimators=1000,\n",
    "                    max_depth=3,\n",
    "                    learning_rate=0.1,\n",
    "                    objective='binary:logistic',\n",
    "                    verbosity=0,\n",
    "                    use_label_encoder=False)\n",
    "\n",
    "xgb = xgb.fit(X_train, y_train)\n",
    "\n",
    "predicted_xgb = xgb.predict(X_test)\n",
    "\n",
    "ac_xgb = accuracy_score(y_test, predicted_xgb)\n",
    "print('The Accuracy for XGBClassifier is: ', int(ac_xgb * 100), \" %\")\n",
    "\n",
    "cm = confusion_matrix(y_test, predicted_xgb, labels=xgb.classes_)\n",
    "disp = ConfusionMatrixDisplay(confusion_matrix=cm, display_labels=xgb.classes_)\n",
    "disp.plot()"
   ]
  },
  {
   "cell_type": "markdown",
   "id": "e056b687",
   "metadata": {},
   "source": [
    "## 5.3 LogisticRegression"
   ]
  },
  {
   "cell_type": "code",
   "execution_count": 1342,
   "id": "f79fd751",
   "metadata": {},
   "outputs": [
    {
     "name": "stdout",
     "output_type": "stream",
     "text": [
      "The Accuracy for LogisticRegression is:  70  %\n"
     ]
    },
    {
     "data": {
      "text/plain": [
       "<sklearn.metrics._plot.confusion_matrix.ConfusionMatrixDisplay at 0x7f31f00de340>"
      ]
     },
     "execution_count": 1342,
     "metadata": {},
     "output_type": "execute_result"
    },
    {
     "data": {
      "image/png": "[encoded data removed]",
      "text/plain": [
       "<Figure size 432x288 with 2 Axes>"
      ]
     },
     "metadata": {
      "needs_background": "light"
     },
     "output_type": "display_data"
    }
   ],
   "source": [
    "logr = LogisticRegression(random_state=0,solver='liblinear',penalty='l1',C=100,class_weight=None,max_iter=250)\n",
    "logr.fit(X_train, y_train)\n",
    "\n",
    "predicted_logr = logr.predict(X_test)\n",
    "ac_logr = accuracy_score(y_test, predicted_logr)\n",
    "print('The Accuracy for LogisticRegression is: ', int(ac_logr * 100), \" %\")\n",
    "\n",
    "cm = confusion_matrix(y_test, predicted_logr)\n",
    "disp = ConfusionMatrixDisplay(confusion_matrix=cm, display_labels=logr.classes_)\n",
    "disp.plot()"
   ]
  },
  {
   "cell_type": "markdown",
   "id": "97b7fc4e",
   "metadata": {},
   "source": [
    "## 5.4 Compare models output"
   ]
  },
  {
   "cell_type": "code",
   "execution_count": 1343,
   "id": "bcd2ae70",
   "metadata": {},
   "outputs": [
    {
     "data": {
      "image/png": "[encoded data removed]",
      "text/plain": [
       "<Figure size 432x288 with 1 Axes>"
      ]
     },
     "metadata": {
      "needs_background": "light"
     },
     "output_type": "display_data"
    }
   ],
   "source": [
    "accuracies = [ac_tree, ac_xgb, ac_logr]\n",
    "models_name = ['DecisionTreeClassifier', 'XGBClassifier', 'LogisticRegression']\n",
    "\n",
    "fig = plt.figure()\n",
    "ax = fig.add_axes([0,0,1,1])\n",
    "ax.bar(models_name,accuracies)\n",
    "_ = plt.xticks(rotation=90,fontsize=14)\n",
    "plt.title('Compare accuracy (test)')\n",
    "plt.ylim(0.50, 1.0)\n",
    "plt.show()"
   ]
  },
  {
   "cell_type": "code",
   "execution_count": null,
   "id": "18b0235d",
   "metadata": {},
   "outputs": [],
   "source": []
  },
  {
   "cell_type": "code",
   "execution_count": null,
   "id": "3bb727e7",
   "metadata": {},
   "outputs": [],
   "source": []
  }
 ],
 "metadata": {
  "kernelspec": {
   "display_name": "conda_python3",
   "language": "python",
   "name": "conda_python3"
  },
  "language_info": {
   "codemirror_mode": {
    "name": "ipython",
    "version": 3
   },
   "file_extension": ".py",
   "mimetype": "text/x-python",
   "name": "python",
   "nbconvert_exporter": "python",
   "pygments_lexer": "ipython3",
   "version": "3.8.12"
  }
 },
 "nbformat": 4,
 "nbformat_minor": 5
}
