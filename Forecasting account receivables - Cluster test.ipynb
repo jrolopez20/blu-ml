{
 "cells": [
  {
   "cell_type": "markdown",
   "id": "f182bd10",
   "metadata": {},
   "source": [
    "# 1. Import required libraries"
   ]
  },
  {
   "cell_type": "code",
   "execution_count": 150,
   "id": "b2e70761",
   "metadata": {},
   "outputs": [],
   "source": [
    "# Import required dependencies\n",
    "import boto3\n",
    "import pandas as pd\n",
    "import numpy as np\n",
    "\n",
    "# Data visualization\n",
    "import matplotlib.pyplot as plt\n",
    "import seaborn as sb\n",
    "%matplotlib inline\n",
    "\n",
    "from sklearn.cluster import KMeans\n",
    "from sklearn.metrics import pairwise_distances_argmin_min\n",
    "\n",
    "from mpl_toolkits.mplot3d import Axes3D\n",
    "plt.rcParams['figure.figsize'] = (16, 9)\n",
    "plt.style.use('ggplot')\n",
    "\n",
    "from datetime import datetime\n",
    "\n",
    "# from collections import Counter\n",
    "# import shap"
   ]
  },
  {
   "cell_type": "markdown",
   "id": "f2acf44f",
   "metadata": {},
   "source": [
    "# 2. Read data"
   ]
  },
  {
   "cell_type": "code",
   "execution_count": 151,
   "id": "51cc319e",
   "metadata": {},
   "outputs": [
    {
     "data": {
      "text/html": [
       "<div>\n",
       "<style scoped>\n",
       "    .dataframe tbody tr th:only-of-type {\n",
       "        vertical-align: middle;\n",
       "    }\n",
       "\n",
       "    .dataframe tbody tr th {\n",
       "        vertical-align: top;\n",
       "    }\n",
       "\n",
       "    .dataframe thead th {\n",
       "        text-align: right;\n",
       "    }\n",
       "</style>\n",
       "<table border=\"1\" class=\"dataframe\">\n",
       "  <thead>\n",
       "    <tr style=\"text-align: right;\">\n",
       "      <th></th>\n",
       "      <th>Fecha</th>\n",
       "      <th>RFCCliente</th>\n",
       "      <th>RFCPagador</th>\n",
       "      <th>Moneda</th>\n",
       "      <th>FechaVencimiento</th>\n",
       "      <th>Monto</th>\n",
       "      <th>DepositoInicial</th>\n",
       "      <th>Intereses</th>\n",
       "      <th>FechaPago</th>\n",
       "    </tr>\n",
       "  </thead>\n",
       "  <tbody>\n",
       "    <tr>\n",
       "      <th>0</th>\n",
       "      <td>1918.0</td>\n",
       "      <td>DDI140206JB6</td>\n",
       "      <td>0</td>\n",
       "      <td>1</td>\n",
       "      <td>1953.0</td>\n",
       "      <td>38879.48</td>\n",
       "      <td>33047.56</td>\n",
       "      <td>2351.94</td>\n",
       "      <td>1939.0</td>\n",
       "    </tr>\n",
       "    <tr>\n",
       "      <th>1</th>\n",
       "      <td>1634.0</td>\n",
       "      <td>GOSJ630117VA4</td>\n",
       "      <td>1</td>\n",
       "      <td>0</td>\n",
       "      <td>1654.0</td>\n",
       "      <td>6658.40</td>\n",
       "      <td>5659.64</td>\n",
       "      <td>109.45</td>\n",
       "      <td>1638.0</td>\n",
       "    </tr>\n",
       "    <tr>\n",
       "      <th>2</th>\n",
       "      <td>1583.0</td>\n",
       "      <td>ECM190924RS5</td>\n",
       "      <td>2</td>\n",
       "      <td>1</td>\n",
       "      <td>1551.0</td>\n",
       "      <td>791.12</td>\n",
       "      <td>791.12</td>\n",
       "      <td>29.26</td>\n",
       "      <td>1551.0</td>\n",
       "    </tr>\n",
       "    <tr>\n",
       "      <th>3</th>\n",
       "      <td>2282.0</td>\n",
       "      <td>DIM9811232SA</td>\n",
       "      <td>3</td>\n",
       "      <td>0</td>\n",
       "      <td>2225.0</td>\n",
       "      <td>33048.00</td>\n",
       "      <td>28090.80</td>\n",
       "      <td>814.88</td>\n",
       "      <td>2226.0</td>\n",
       "    </tr>\n",
       "    <tr>\n",
       "      <th>4</th>\n",
       "      <td>2110.0</td>\n",
       "      <td>SNO200526BV7</td>\n",
       "      <td>4</td>\n",
       "      <td>0</td>\n",
       "      <td>2170.0</td>\n",
       "      <td>424634.82</td>\n",
       "      <td>360939.60</td>\n",
       "      <td>10615.87</td>\n",
       "      <td>2166.0</td>\n",
       "    </tr>\n",
       "  </tbody>\n",
       "</table>\n",
       "</div>"
      ],
      "text/plain": [
       "    Fecha     RFCCliente  RFCPagador  Moneda  FechaVencimiento      Monto  \\\n",
       "0  1918.0   DDI140206JB6           0       1            1953.0   38879.48   \n",
       "1  1634.0  GOSJ630117VA4           1       0            1654.0    6658.40   \n",
       "2  1583.0   ECM190924RS5           2       1            1551.0     791.12   \n",
       "3  2282.0   DIM9811232SA           3       0            2225.0   33048.00   \n",
       "4  2110.0   SNO200526BV7           4       0            2170.0  424634.82   \n",
       "\n",
       "   DepositoInicial  Intereses  FechaPago  \n",
       "0         33047.56    2351.94     1939.0  \n",
       "1          5659.64     109.45     1638.0  \n",
       "2           791.12      29.26     1551.0  \n",
       "3         28090.80     814.88     2226.0  \n",
       "4        360939.60   10615.87     2166.0  "
      ]
     },
     "execution_count": 151,
     "metadata": {},
     "output_type": "execute_result"
    }
   ],
   "source": [
    "# Readind data\n",
    "bucket_name = 'finance-factoring-ml-dev'\n",
    "\n",
    "df = pd.read_csv('s3://{}/data/all.csv'.format(bucket_name))\n",
    "df.head()"
   ]
  },
  {
   "cell_type": "markdown",
   "id": "a7dc59af",
   "metadata": {},
   "source": [
    "# 3. Data Engineering"
   ]
  },
  {
   "cell_type": "code",
   "execution_count": 152,
   "id": "5ba0066b",
   "metadata": {},
   "outputs": [
    {
     "data": {
      "text/html": [
       "<div>\n",
       "<style scoped>\n",
       "    .dataframe tbody tr th:only-of-type {\n",
       "        vertical-align: middle;\n",
       "    }\n",
       "\n",
       "    .dataframe tbody tr th {\n",
       "        vertical-align: top;\n",
       "    }\n",
       "\n",
       "    .dataframe thead th {\n",
       "        text-align: right;\n",
       "    }\n",
       "</style>\n",
       "<table border=\"1\" class=\"dataframe\">\n",
       "  <thead>\n",
       "    <tr style=\"text-align: right;\">\n",
       "      <th></th>\n",
       "      <th>Fecha</th>\n",
       "      <th>RFCCliente</th>\n",
       "      <th>RFCPagador</th>\n",
       "      <th>FechaVencimiento</th>\n",
       "      <th>Monto</th>\n",
       "      <th>Intereses</th>\n",
       "      <th>FechaPago</th>\n",
       "    </tr>\n",
       "  </thead>\n",
       "  <tbody>\n",
       "    <tr>\n",
       "      <th>0</th>\n",
       "      <td>1918.0</td>\n",
       "      <td>DDI140206JB6</td>\n",
       "      <td>0</td>\n",
       "      <td>1953.0</td>\n",
       "      <td>38879.48</td>\n",
       "      <td>2351.94</td>\n",
       "      <td>1939.0</td>\n",
       "    </tr>\n",
       "    <tr>\n",
       "      <th>1</th>\n",
       "      <td>1634.0</td>\n",
       "      <td>GOSJ630117VA4</td>\n",
       "      <td>1</td>\n",
       "      <td>1654.0</td>\n",
       "      <td>6658.40</td>\n",
       "      <td>109.45</td>\n",
       "      <td>1638.0</td>\n",
       "    </tr>\n",
       "    <tr>\n",
       "      <th>2</th>\n",
       "      <td>1583.0</td>\n",
       "      <td>ECM190924RS5</td>\n",
       "      <td>2</td>\n",
       "      <td>1551.0</td>\n",
       "      <td>791.12</td>\n",
       "      <td>29.26</td>\n",
       "      <td>1551.0</td>\n",
       "    </tr>\n",
       "    <tr>\n",
       "      <th>3</th>\n",
       "      <td>2282.0</td>\n",
       "      <td>DIM9811232SA</td>\n",
       "      <td>3</td>\n",
       "      <td>2225.0</td>\n",
       "      <td>33048.00</td>\n",
       "      <td>814.88</td>\n",
       "      <td>2226.0</td>\n",
       "    </tr>\n",
       "    <tr>\n",
       "      <th>4</th>\n",
       "      <td>2110.0</td>\n",
       "      <td>SNO200526BV7</td>\n",
       "      <td>4</td>\n",
       "      <td>2170.0</td>\n",
       "      <td>424634.82</td>\n",
       "      <td>10615.87</td>\n",
       "      <td>2166.0</td>\n",
       "    </tr>\n",
       "  </tbody>\n",
       "</table>\n",
       "</div>"
      ],
      "text/plain": [
       "    Fecha     RFCCliente  RFCPagador  FechaVencimiento      Monto  Intereses  \\\n",
       "0  1918.0   DDI140206JB6           0            1953.0   38879.48    2351.94   \n",
       "1  1634.0  GOSJ630117VA4           1            1654.0    6658.40     109.45   \n",
       "2  1583.0   ECM190924RS5           2            1551.0     791.12      29.26   \n",
       "3  2282.0   DIM9811232SA           3            2225.0   33048.00     814.88   \n",
       "4  2110.0   SNO200526BV7           4            2170.0  424634.82   10615.87   \n",
       "\n",
       "   FechaPago  \n",
       "0     1939.0  \n",
       "1     1638.0  \n",
       "2     1551.0  \n",
       "3     2226.0  \n",
       "4     2166.0  "
      ]
     },
     "execution_count": 152,
     "metadata": {},
     "output_type": "execute_result"
    }
   ],
   "source": [
    "# Remove RFC Columns\n",
    "# df.drop(\"RFCPagador\", axis=1, inplace=True)\n",
    "df.drop(\"Moneda\", axis=1, inplace=True)\n",
    "df.drop(\"DepositoInicial\", axis=1, inplace=True)\n",
    "df.head()"
   ]
  },
  {
   "cell_type": "code",
   "execution_count": 153,
   "id": "098450e6",
   "metadata": {},
   "outputs": [
    {
     "data": {
      "text/html": [
       "<div>\n",
       "<style scoped>\n",
       "    .dataframe tbody tr th:only-of-type {\n",
       "        vertical-align: middle;\n",
       "    }\n",
       "\n",
       "    .dataframe tbody tr th {\n",
       "        vertical-align: top;\n",
       "    }\n",
       "\n",
       "    .dataframe thead th {\n",
       "        text-align: right;\n",
       "    }\n",
       "</style>\n",
       "<table border=\"1\" class=\"dataframe\">\n",
       "  <thead>\n",
       "    <tr style=\"text-align: right;\">\n",
       "      <th></th>\n",
       "      <th>Fecha</th>\n",
       "      <th>RFCCliente</th>\n",
       "      <th>RFCPagador</th>\n",
       "      <th>FechaVencimiento</th>\n",
       "      <th>Monto</th>\n",
       "      <th>Intereses</th>\n",
       "      <th>FechaPago</th>\n",
       "      <th>PaymentTerm</th>\n",
       "    </tr>\n",
       "  </thead>\n",
       "  <tbody>\n",
       "    <tr>\n",
       "      <th>0</th>\n",
       "      <td>1918.0</td>\n",
       "      <td>DDI140206JB6</td>\n",
       "      <td>0</td>\n",
       "      <td>1953.0</td>\n",
       "      <td>38879.48</td>\n",
       "      <td>2351.94</td>\n",
       "      <td>1939.0</td>\n",
       "      <td>35.0</td>\n",
       "    </tr>\n",
       "    <tr>\n",
       "      <th>1</th>\n",
       "      <td>1634.0</td>\n",
       "      <td>GOSJ630117VA4</td>\n",
       "      <td>1</td>\n",
       "      <td>1654.0</td>\n",
       "      <td>6658.40</td>\n",
       "      <td>109.45</td>\n",
       "      <td>1638.0</td>\n",
       "      <td>20.0</td>\n",
       "    </tr>\n",
       "    <tr>\n",
       "      <th>2</th>\n",
       "      <td>1583.0</td>\n",
       "      <td>ECM190924RS5</td>\n",
       "      <td>2</td>\n",
       "      <td>1551.0</td>\n",
       "      <td>791.12</td>\n",
       "      <td>29.26</td>\n",
       "      <td>1551.0</td>\n",
       "      <td>-32.0</td>\n",
       "    </tr>\n",
       "    <tr>\n",
       "      <th>3</th>\n",
       "      <td>2282.0</td>\n",
       "      <td>DIM9811232SA</td>\n",
       "      <td>3</td>\n",
       "      <td>2225.0</td>\n",
       "      <td>33048.00</td>\n",
       "      <td>814.88</td>\n",
       "      <td>2226.0</td>\n",
       "      <td>-57.0</td>\n",
       "    </tr>\n",
       "    <tr>\n",
       "      <th>4</th>\n",
       "      <td>2110.0</td>\n",
       "      <td>SNO200526BV7</td>\n",
       "      <td>4</td>\n",
       "      <td>2170.0</td>\n",
       "      <td>424634.82</td>\n",
       "      <td>10615.87</td>\n",
       "      <td>2166.0</td>\n",
       "      <td>60.0</td>\n",
       "    </tr>\n",
       "  </tbody>\n",
       "</table>\n",
       "</div>"
      ],
      "text/plain": [
       "    Fecha     RFCCliente  RFCPagador  FechaVencimiento      Monto  Intereses  \\\n",
       "0  1918.0   DDI140206JB6           0            1953.0   38879.48    2351.94   \n",
       "1  1634.0  GOSJ630117VA4           1            1654.0    6658.40     109.45   \n",
       "2  1583.0   ECM190924RS5           2            1551.0     791.12      29.26   \n",
       "3  2282.0   DIM9811232SA           3            2225.0   33048.00     814.88   \n",
       "4  2110.0   SNO200526BV7           4            2170.0  424634.82   10615.87   \n",
       "\n",
       "   FechaPago  PaymentTerm  \n",
       "0     1939.0         35.0  \n",
       "1     1638.0         20.0  \n",
       "2     1551.0        -32.0  \n",
       "3     2226.0        -57.0  \n",
       "4     2166.0         60.0  "
      ]
     },
     "execution_count": 153,
     "metadata": {},
     "output_type": "execute_result"
    }
   ],
   "source": [
    "# Build feature Payment term\n",
    "def calc_payment_term(row):\n",
    "    return row.FechaVencimiento - row.Fecha\n",
    "\n",
    "df['PaymentTerm'] = df.apply(calc_payment_term, axis=1)\n",
    "df.head()"
   ]
  },
  {
   "cell_type": "code",
   "execution_count": 202,
   "id": "dd4e674a",
   "metadata": {},
   "outputs": [
    {
     "data": {
      "text/html": [
       "<div>\n",
       "<style scoped>\n",
       "    .dataframe tbody tr th:only-of-type {\n",
       "        vertical-align: middle;\n",
       "    }\n",
       "\n",
       "    .dataframe tbody tr th {\n",
       "        vertical-align: top;\n",
       "    }\n",
       "\n",
       "    .dataframe thead th {\n",
       "        text-align: right;\n",
       "    }\n",
       "</style>\n",
       "<table border=\"1\" class=\"dataframe\">\n",
       "  <thead>\n",
       "    <tr style=\"text-align: right;\">\n",
       "      <th></th>\n",
       "      <th>Monto</th>\n",
       "      <th>PaymentTerm</th>\n",
       "    </tr>\n",
       "  </thead>\n",
       "  <tbody>\n",
       "    <tr>\n",
       "      <th>0</th>\n",
       "      <td>38879.48</td>\n",
       "      <td>35.0</td>\n",
       "    </tr>\n",
       "    <tr>\n",
       "      <th>1</th>\n",
       "      <td>6658.40</td>\n",
       "      <td>20.0</td>\n",
       "    </tr>\n",
       "    <tr>\n",
       "      <th>2</th>\n",
       "      <td>791.12</td>\n",
       "      <td>-32.0</td>\n",
       "    </tr>\n",
       "    <tr>\n",
       "      <th>3</th>\n",
       "      <td>33048.00</td>\n",
       "      <td>-57.0</td>\n",
       "    </tr>\n",
       "    <tr>\n",
       "      <th>4</th>\n",
       "      <td>424634.82</td>\n",
       "      <td>60.0</td>\n",
       "    </tr>\n",
       "  </tbody>\n",
       "</table>\n",
       "</div>"
      ],
      "text/plain": [
       "       Monto  PaymentTerm\n",
       "0   38879.48         35.0\n",
       "1    6658.40         20.0\n",
       "2     791.12        -32.0\n",
       "3   33048.00        -57.0\n",
       "4  424634.82         60.0"
      ]
     },
     "execution_count": 202,
     "metadata": {},
     "output_type": "execute_result"
    }
   ],
   "source": [
    "df1 = df.loc[:, ['Monto', 'PaymentTerm']]\n",
    "df1.head()"
   ]
  },
  {
   "cell_type": "code",
   "execution_count": 203,
   "id": "4afaf52d",
   "metadata": {},
   "outputs": [
    {
     "data": {
      "text/html": [
       "<div>\n",
       "<style scoped>\n",
       "    .dataframe tbody tr th:only-of-type {\n",
       "        vertical-align: middle;\n",
       "    }\n",
       "\n",
       "    .dataframe tbody tr th {\n",
       "        vertical-align: top;\n",
       "    }\n",
       "\n",
       "    .dataframe thead th {\n",
       "        text-align: right;\n",
       "    }\n",
       "</style>\n",
       "<table border=\"1\" class=\"dataframe\">\n",
       "  <thead>\n",
       "    <tr style=\"text-align: right;\">\n",
       "      <th></th>\n",
       "      <th>Monto</th>\n",
       "      <th>PaymentTerm</th>\n",
       "    </tr>\n",
       "  </thead>\n",
       "  <tbody>\n",
       "    <tr>\n",
       "      <th>0</th>\n",
       "      <td>38879.48</td>\n",
       "      <td>35.0</td>\n",
       "    </tr>\n",
       "    <tr>\n",
       "      <th>1</th>\n",
       "      <td>6658.40</td>\n",
       "      <td>20.0</td>\n",
       "    </tr>\n",
       "    <tr>\n",
       "      <th>4</th>\n",
       "      <td>424634.82</td>\n",
       "      <td>60.0</td>\n",
       "    </tr>\n",
       "    <tr>\n",
       "      <th>6</th>\n",
       "      <td>33220.66</td>\n",
       "      <td>43.0</td>\n",
       "    </tr>\n",
       "    <tr>\n",
       "      <th>8</th>\n",
       "      <td>304240.26</td>\n",
       "      <td>21.0</td>\n",
       "    </tr>\n",
       "  </tbody>\n",
       "</table>\n",
       "</div>"
      ],
      "text/plain": [
       "       Monto  PaymentTerm\n",
       "0   38879.48         35.0\n",
       "1    6658.40         20.0\n",
       "4  424634.82         60.0\n",
       "6   33220.66         43.0\n",
       "8  304240.26         21.0"
      ]
     },
     "execution_count": 203,
     "metadata": {},
     "output_type": "execute_result"
    }
   ],
   "source": [
    "# Remove Payment Term with negative values\n",
    "df1 = df1[df1['PaymentTerm'] >= 0]\n",
    "df1.head()"
   ]
  },
  {
   "cell_type": "code",
   "execution_count": 204,
   "id": "c695a11b",
   "metadata": {},
   "outputs": [
    {
     "data": {
      "text/html": [
       "<div>\n",
       "<style scoped>\n",
       "    .dataframe tbody tr th:only-of-type {\n",
       "        vertical-align: middle;\n",
       "    }\n",
       "\n",
       "    .dataframe tbody tr th {\n",
       "        vertical-align: top;\n",
       "    }\n",
       "\n",
       "    .dataframe thead th {\n",
       "        text-align: right;\n",
       "    }\n",
       "</style>\n",
       "<table border=\"1\" class=\"dataframe\">\n",
       "  <thead>\n",
       "    <tr style=\"text-align: right;\">\n",
       "      <th></th>\n",
       "      <th>Monto</th>\n",
       "      <th>PaymentTerm</th>\n",
       "    </tr>\n",
       "  </thead>\n",
       "  <tbody>\n",
       "    <tr>\n",
       "      <th>count</th>\n",
       "      <td>1.603900e+04</td>\n",
       "      <td>16039.000000</td>\n",
       "    </tr>\n",
       "    <tr>\n",
       "      <th>mean</th>\n",
       "      <td>3.872179e+04</td>\n",
       "      <td>88.773552</td>\n",
       "    </tr>\n",
       "    <tr>\n",
       "      <th>std</th>\n",
       "      <td>1.406455e+05</td>\n",
       "      <td>74.505099</td>\n",
       "    </tr>\n",
       "    <tr>\n",
       "      <th>min</th>\n",
       "      <td>2.960000e+00</td>\n",
       "      <td>0.000000</td>\n",
       "    </tr>\n",
       "    <tr>\n",
       "      <th>25%</th>\n",
       "      <td>1.573110e+03</td>\n",
       "      <td>46.000000</td>\n",
       "    </tr>\n",
       "    <tr>\n",
       "      <th>50%</th>\n",
       "      <td>8.280000e+03</td>\n",
       "      <td>64.000000</td>\n",
       "    </tr>\n",
       "    <tr>\n",
       "      <th>75%</th>\n",
       "      <td>2.810390e+04</td>\n",
       "      <td>93.000000</td>\n",
       "    </tr>\n",
       "    <tr>\n",
       "      <th>max</th>\n",
       "      <td>5.486111e+06</td>\n",
       "      <td>597.000000</td>\n",
       "    </tr>\n",
       "  </tbody>\n",
       "</table>\n",
       "</div>"
      ],
      "text/plain": [
       "              Monto   PaymentTerm\n",
       "count  1.603900e+04  16039.000000\n",
       "mean   3.872179e+04     88.773552\n",
       "std    1.406455e+05     74.505099\n",
       "min    2.960000e+00      0.000000\n",
       "25%    1.573110e+03     46.000000\n",
       "50%    8.280000e+03     64.000000\n",
       "75%    2.810390e+04     93.000000\n",
       "max    5.486111e+06    597.000000"
      ]
     },
     "execution_count": 204,
     "metadata": {},
     "output_type": "execute_result"
    }
   ],
   "source": [
    "df1.describe()"
   ]
  },
  {
   "cell_type": "code",
   "execution_count": 205,
   "id": "30650e82",
   "metadata": {},
   "outputs": [
    {
     "data": {
      "text/html": [
       "<div>\n",
       "<style scoped>\n",
       "    .dataframe tbody tr th:only-of-type {\n",
       "        vertical-align: middle;\n",
       "    }\n",
       "\n",
       "    .dataframe tbody tr th {\n",
       "        vertical-align: top;\n",
       "    }\n",
       "\n",
       "    .dataframe thead th {\n",
       "        text-align: right;\n",
       "    }\n",
       "</style>\n",
       "<table border=\"1\" class=\"dataframe\">\n",
       "  <thead>\n",
       "    <tr style=\"text-align: right;\">\n",
       "      <th></th>\n",
       "      <th>Monto</th>\n",
       "      <th>PaymentTerm</th>\n",
       "    </tr>\n",
       "  </thead>\n",
       "  <tbody>\n",
       "    <tr>\n",
       "      <th>0</th>\n",
       "      <td>0.007086</td>\n",
       "      <td>0.058626</td>\n",
       "    </tr>\n",
       "    <tr>\n",
       "      <th>1</th>\n",
       "      <td>0.001213</td>\n",
       "      <td>0.033501</td>\n",
       "    </tr>\n",
       "    <tr>\n",
       "      <th>4</th>\n",
       "      <td>0.077401</td>\n",
       "      <td>0.100503</td>\n",
       "    </tr>\n",
       "    <tr>\n",
       "      <th>6</th>\n",
       "      <td>0.006055</td>\n",
       "      <td>0.072027</td>\n",
       "    </tr>\n",
       "    <tr>\n",
       "      <th>8</th>\n",
       "      <td>0.055456</td>\n",
       "      <td>0.035176</td>\n",
       "    </tr>\n",
       "  </tbody>\n",
       "</table>\n",
       "</div>"
      ],
      "text/plain": [
       "      Monto  PaymentTerm\n",
       "0  0.007086     0.058626\n",
       "1  0.001213     0.033501\n",
       "4  0.077401     0.100503\n",
       "6  0.006055     0.072027\n",
       "8  0.055456     0.035176"
      ]
     },
     "execution_count": 205,
     "metadata": {},
     "output_type": "execute_result"
    }
   ],
   "source": [
    "#Normalizo la columna de Monto\n",
    "# df1['Monto'] = df1['Monto'] /df1['Monto'].abs().max() \n",
    "# df1['PaymentTerm'] = df1['PaymentTerm'] /df1['PaymentTerm'].abs().max() \n",
    "from sklearn.preprocessing import MinMaxScaler \n",
    "import numpy as np \n",
    "\n",
    "df1['Monto'] = MinMaxScaler().fit_transform(np.array(df1['Monto']).reshape(-1,1)) \n",
    "df1['PaymentTerm'] = MinMaxScaler().fit_transform(np.array(df1['PaymentTerm']).reshape(-1,1)) \n",
    "df1.head()"
   ]
  },
  {
   "cell_type": "code",
   "execution_count": 206,
   "id": "0522e499",
   "metadata": {},
   "outputs": [
    {
     "data": {
      "text/html": [
       "<div>\n",
       "<style scoped>\n",
       "    .dataframe tbody tr th:only-of-type {\n",
       "        vertical-align: middle;\n",
       "    }\n",
       "\n",
       "    .dataframe tbody tr th {\n",
       "        vertical-align: top;\n",
       "    }\n",
       "\n",
       "    .dataframe thead th {\n",
       "        text-align: right;\n",
       "    }\n",
       "</style>\n",
       "<table border=\"1\" class=\"dataframe\">\n",
       "  <thead>\n",
       "    <tr style=\"text-align: right;\">\n",
       "      <th></th>\n",
       "      <th>Monto</th>\n",
       "      <th>PaymentTerm</th>\n",
       "    </tr>\n",
       "  </thead>\n",
       "  <tbody>\n",
       "    <tr>\n",
       "      <th>count</th>\n",
       "      <td>16039.000000</td>\n",
       "      <td>16039.000000</td>\n",
       "    </tr>\n",
       "    <tr>\n",
       "      <th>mean</th>\n",
       "      <td>0.007058</td>\n",
       "      <td>0.148699</td>\n",
       "    </tr>\n",
       "    <tr>\n",
       "      <th>std</th>\n",
       "      <td>0.025637</td>\n",
       "      <td>0.124799</td>\n",
       "    </tr>\n",
       "    <tr>\n",
       "      <th>min</th>\n",
       "      <td>0.000000</td>\n",
       "      <td>0.000000</td>\n",
       "    </tr>\n",
       "    <tr>\n",
       "      <th>25%</th>\n",
       "      <td>0.000286</td>\n",
       "      <td>0.077052</td>\n",
       "    </tr>\n",
       "    <tr>\n",
       "      <th>50%</th>\n",
       "      <td>0.001509</td>\n",
       "      <td>0.107203</td>\n",
       "    </tr>\n",
       "    <tr>\n",
       "      <th>75%</th>\n",
       "      <td>0.005122</td>\n",
       "      <td>0.155779</td>\n",
       "    </tr>\n",
       "    <tr>\n",
       "      <th>max</th>\n",
       "      <td>1.000000</td>\n",
       "      <td>1.000000</td>\n",
       "    </tr>\n",
       "  </tbody>\n",
       "</table>\n",
       "</div>"
      ],
      "text/plain": [
       "              Monto   PaymentTerm\n",
       "count  16039.000000  16039.000000\n",
       "mean       0.007058      0.148699\n",
       "std        0.025637      0.124799\n",
       "min        0.000000      0.000000\n",
       "25%        0.000286      0.077052\n",
       "50%        0.001509      0.107203\n",
       "75%        0.005122      0.155779\n",
       "max        1.000000      1.000000"
      ]
     },
     "execution_count": 206,
     "metadata": {},
     "output_type": "execute_result"
    }
   ],
   "source": [
    "df1.describe()"
   ]
  },
  {
   "cell_type": "markdown",
   "id": "b5f6ebe6",
   "metadata": {},
   "source": [
    "# Obtener el valor K"
   ]
  },
  {
   "cell_type": "code",
   "execution_count": 207,
   "id": "ee2de9f7",
   "metadata": {},
   "outputs": [
    {
     "data": {
      "image/png": "[encoded data removed]",
      "text/plain": [
       "<Figure size 1152x648 with 1 Axes>"
      ]
     },
     "metadata": {},
     "output_type": "display_data"
    }
   ],
   "source": [
    "clusters_qty = range(1, 20)\n",
    "kmeans_list = [KMeans(n_clusters=i) for i in clusters_qty]\n",
    "\n",
    "score = [kmeans_list[i].fit(df1).score(df1) for i in range(len(kmeans_list))]\n",
    "score\n",
    "plt.plot(clusters_qty,score)\n",
    "plt.xlabel('Number of Clusters')\n",
    "plt.ylabel('Score')\n",
    "plt.title('Elbow Curve')\n",
    "plt.show()"
   ]
  },
  {
   "cell_type": "code",
   "execution_count": 208,
   "id": "39609534",
   "metadata": {},
   "outputs": [
    {
     "name": "stdout",
     "output_type": "stream",
     "text": [
      "[[0.00568964 0.07575556]\n",
      " [0.0050844  0.52447555]\n",
      " [0.00744774 0.31318347]\n",
      " [0.01005735 0.15635014]]\n"
     ]
    }
   ],
   "source": [
    "# Take 4 as the elbow\n",
    "n_clusters =4\n",
    "\n",
    "kmeans = KMeans(n_clusters=n_clusters).fit(df1)\n",
    "centroids = kmeans.cluster_centers_\n",
    "print(centroids)"
   ]
  },
  {
   "cell_type": "code",
   "execution_count": 209,
   "id": "59b4a06c",
   "metadata": {},
   "outputs": [
    {
     "name": "stdout",
     "output_type": "stream",
     "text": [
      "[0 0 0 ... 0 0 0]\n"
     ]
    },
    {
     "name": "stderr",
     "output_type": "stream",
     "text": [
      "/tmp/ipykernel_8166/2092775458.py:14: MatplotlibDeprecationWarning: Axes3D(fig) adding itself to the figure is deprecated since 3.4. Pass the keyword argument auto_add_to_figure=False and use fig.add_axes(ax) to suppress this warning. The default value of auto_add_to_figure will change to False in mpl3.5 and True values will no longer work in 3.6.  This is consistent with other Axes classes.\n",
      "  ax = Axes3D(fig)\n"
     ]
    },
    {
     "data": {
      "text/plain": [
       "<mpl_toolkits.mplot3d.art3d.Path3DCollection at 0x7f573c913b20>"
      ]
     },
     "execution_count": 209,
     "metadata": {},
     "output_type": "execute_result"
    },
    {
     "data": {
      "image/png": "[encoded data removed]",
      "text/plain": [
       "<Figure size 1152x648 with 1 Axes>"
      ]
     },
     "metadata": {},
     "output_type": "display_data"
    }
   ],
   "source": [
    "# Predicting the clusters\n",
    "labels = kmeans.predict(df1)\n",
    "print(labels)\n",
    "# Getting the cluster centers\n",
    "cluster_centers = kmeans.cluster_centers_\n",
    "\n",
    "# Define colors according to the number of clusters\n",
    "colors=['red','green','blue','cyan','yellow', 'gray']\n",
    "asignar=[]\n",
    "for row in labels:\n",
    "    asignar.append(colors[row])\n",
    "\n",
    "fig = plt.figure()\n",
    "ax = Axes3D(fig)\n",
    "\n",
    "ax.scatter(df1.iloc[:, 0], df1.iloc[:, 1], c=asignar,s=20)\n",
    "ax.scatter(cluster_centers[:, 0],cluster_centers[:, 1], marker='*', c=colors[:n_clusters], s=1000)\n"
   ]
  },
  {
   "cell_type": "code",
   "execution_count": 210,
   "id": "3000395a",
   "metadata": {},
   "outputs": [
    {
     "data": {
      "text/plain": [
       "<matplotlib.collections.PathCollection at 0x7f573c89c310>"
      ]
     },
     "execution_count": 210,
     "metadata": {},
     "output_type": "execute_result"
    },
    {
     "data": {
      "image/png": "[encoded data removed]",
      "text/plain": [
       "<Figure size 1152x648 with 1 Axes>"
      ]
     },
     "metadata": {},
     "output_type": "display_data"
    }
   ],
   "source": [
    "f1 = df1['Monto'].values\n",
    "f2 = df1['PaymentTerm'].values\n",
    " \n",
    "plt.scatter(f1, f2, c=asignar, s=70)\n",
    "plt.scatter(cluster_centers[:, 0], cluster_centers[:, 1], marker='*', c=colors[:n_clusters], s=1000)\n",
    "# plt.show()"
   ]
  },
  {
   "cell_type": "code",
   "execution_count": 211,
   "id": "fe210a19",
   "metadata": {},
   "outputs": [
    {
     "name": "stdout",
     "output_type": "stream",
     "text": [
      "[1]\n"
     ]
    }
   ],
   "source": [
    "X_new = np.array([[6658.40, 20.0]]) #davidguetta\n",
    "\n",
    "X_new = pd.DataFrame(np.array([[2.40, 1500.0]]), columns=['Monto', 'PaymentTerm'])\n",
    "\n",
    "new_labels = kmeans.predict(X_new)\n",
    "print(new_labels)"
   ]
  },
  {
   "cell_type": "code",
   "execution_count": null,
   "id": "6fd977f2",
   "metadata": {},
   "outputs": [],
   "source": []
  }
 ],
 "metadata": {
  "kernelspec": {
   "display_name": "conda_python3",
   "language": "python",
   "name": "conda_python3"
  },
  "language_info": {
   "codemirror_mode": {
    "name": "ipython",
    "version": 3
   },
   "file_extension": ".py",
   "mimetype": "text/x-python",
   "name": "python",
   "nbconvert_exporter": "python",
   "pygments_lexer": "ipython3",
   "version": "3.8.12"
  }
 },
 "nbformat": 4,
 "nbformat_minor": 5
}
